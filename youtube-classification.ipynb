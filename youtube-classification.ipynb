{
 "cells": [
  {
   "attachments": {},
   "cell_type": "markdown",
   "metadata": {},
   "source": [
    "<center>\n",
    "<h1><b>Categorizzazione dei video di <b style=\"color:red\">You</b>tube</b></h1>\n",
    "<h3><i>Analisi del testo - classificazione multiclasse</i></h3>\n",
    "<a href=\"https://www.antoniopelusi.com\">Antonio Pelusi</a>\n",
    "<p>Matricola: <b>182267</b></p>\n",
    "<a href=\"mailto:257241@studenti.unimore.it\">257241@studenti.unimore.it</a>\n",
    "</center>"
   ]
  },
  {
   "attachments": {},
   "cell_type": "markdown",
   "metadata": {},
   "source": [
    "---"
   ]
  },
  {
   "attachments": {},
   "cell_type": "markdown",
   "metadata": {},
   "source": [
    "# **Abstract**\n",
    "Classificazione dei video di Youtube utilizzando il loro titolo e la loro descrizione.\n",
    "\n",
    "Nella sezione **2 - Progettazione** verrà approfondito il progetto e le fasi che dovranno essere affrontate per il suo sviluppo.\n",
    "\n",
    "Nella sezione **8 - Analisi esplorativa** verranno effettuate le scelte tecniche librerie, algoritmi e tecniche che dovranno essere utilizzate nei processi di training e testing del modello.\n",
    "\n",
    "Di seguito un breve elenco dei principali metodi, algoritmi e tecniche utilizzati:\n",
    "\n",
    "Librerie di text mining utilizzate:\n",
    "- **NLTK**\n",
    "- **SciKit Learn**\n",
    "\n",
    "Algoritmi testati:\n",
    "- *Naive Bayes*, nella sua implementazione presente nella libreria **NLTK**\n",
    "- *Naive Bayes*, nella sua implementazione presente nella libreria **SciKit Learn**\n",
    "- *SGD Classifier*,nella sua implementazione presente nella libreria **SciKit Learn**\n",
    "\n",
    "Tecniche utilizzate:\n",
    "- pulizia generale del testo\n",
    "- stemming delle parole\n",
    "- tokenizzazione\n",
    "- cross-validation\n",
    "- grid-search"
   ]
  },
  {
   "attachments": {},
   "cell_type": "markdown",
   "metadata": {},
   "source": [
    "---"
   ]
  },
  {
   "attachments": {},
   "cell_type": "markdown",
   "metadata": {},
   "source": [
    "# **Indice**"
   ]
  },
  {
   "attachments": {},
   "cell_type": "markdown",
   "metadata": {},
   "source": [
    "1. **[Obiettivo](#1---obiettivo)**\n",
    "\n",
    "2. **[Progettazione](#2---progettazione)**\n",
    "\n",
    "3. **[Inizializzazione](#3---inizializzazione)**\n",
    "\n",
    "4. **[Raccolta dati](#4---raccolta-dei-dati)**\n",
    "\n",
    "5. **[Pulizia del dataset](#5---pulizia-del-dataset)**\n",
    "\n",
    "6. **[Pulizia del testo](#6---pulizia-del-testo)**\n",
    "\n",
    "7. **[Tokenizzazione](#7---tokenizzazione)**\n",
    "\n",
    "8. **[Analisi esplorativa](#8---analisi-esplorativa)**\n",
    "\n",
    "    - **Naive Bayes**\n",
    "    \n",
    "    - **SGD Classifier**\n",
    "\n",
    "9. **[NLTK - Naive Bayes](#9---nltk---naive-bayes)**\n",
    "\n",
    "    - **Creazione train set e test set**\n",
    "\n",
    "    - **Training**\n",
    "\n",
    "    - **Testing**\n",
    "    \n",
    "    - **Raccolta dei risultati**\n",
    "\n",
    "10. **[SKLearn - Naive Bayes](#10---sklearn---naive-bayes)**\n",
    "\n",
    "    - **Creazione train set e test set**\n",
    "\n",
    "    - **Training**\n",
    "\n",
    "    - **Testing**\n",
    "    \n",
    "    - **Raccolta dei risultati**\n",
    "\n",
    "11. **[SKLearn - SGD Classifier](#11---sklearn---sgd-classifier)**\n",
    "\n",
    "    - **Creazione train set e test set**\n",
    "\n",
    "    - **Training**\n",
    "\n",
    "    - **Testing**\n",
    "    \n",
    "    - **Raccolta dei risultati**\n",
    "\n",
    "12. **[Analisi conclusiva](#12---analisi-conclusiva)**"
   ]
  },
  {
   "attachments": {},
   "cell_type": "markdown",
   "metadata": {},
   "source": [
    "---"
   ]
  },
  {
   "attachments": {},
   "cell_type": "markdown",
   "metadata": {},
   "source": [
    "# 1 - **Obiettivo**"
   ]
  },
  {
   "attachments": {},
   "cell_type": "markdown",
   "metadata": {},
   "source": [
    "L'obiettivo del seguente progetto è quello di sviluppare un modello di text mining capace di assegnare la categoria corretta ad un video Youtube.\n",
    "\n",
    "Si tratta quindi di un problema di classificazione multi-classe."
   ]
  },
  {
   "attachments": {},
   "cell_type": "markdown",
   "metadata": {},
   "source": [
    "---"
   ]
  },
  {
   "attachments": {},
   "cell_type": "markdown",
   "metadata": {},
   "source": [
    "# 2 - **Progettazione**"
   ]
  },
  {
   "attachments": {},
   "cell_type": "markdown",
   "metadata": {},
   "source": [
    "Essendo un modello di text mining, le uniche risorse testuali che un video su Youtube possiede sono titolo e descrizione.\n",
    "\n",
    "Ogni video potrà essere classificato in una delle seguenti 9 categorie:\n",
    "- **travel**\n",
    "- **science and technology**\n",
    "- **food**\n",
    "- **manufacturing**\n",
    "- **history**\n",
    "- **art and music**\n",
    "- **nature**\n",
    "- **sports**\n",
    "- **adventure**\n",
    "\n",
    "L'intero processo sarà diviso nelle seguenti macro aree:\n",
    "\n",
    "- **Raccolta dei dati**: per questo progetto verrà utilizzato un dataset contenente ~30k records, ciascuno contenente le informazioni di un video di Youtube, tra cui titolo, descrizione e categoria\n",
    "\n",
    "- **Pulizia del dataset**: consiste nella rimozione dei records che hanno qualche informazione mancante. infatti questi record potrebbero avere una influenza negativa nella fase di training, falsando l'accuratezza in fase di testing\n",
    "\n",
    "- **Pulizia del testo**: questa fase applicherà alle informazioni grezze (titolo e descrizione) le seguenti modifiche:\n",
    "  \n",
    "    - unione dei titoli e delle descrizioni (al fine di avere un'unica fonte di informazioni)\n",
    "  \n",
    "    - Rimozione codice *html*, *urls*, *caratteri speciali* e *stopwords*\n",
    "  \n",
    "    - Stemming del testo (processo di riduzione della forma flessa di una parola alla sua forma radice, detta *tema*)\n",
    "\n",
    "- **Tokenizzazione**: consiste nella divisione del testo grezzo in unità più piccole, detti *token*\n",
    "\n",
    "- **Analisi esplorativa**: in questa fase verrà studiato approssimativamente il dataset e la sua struttura. Verranno inoltre scelti i metodi che dovranno essere utilizzati nella fase di training, tenendo conto sia dell'obiettivo che del dataset\n",
    "\n",
    "- Per ogni metodo di training testato, si ripeteranno le seguenti fasi:\n",
    "\n",
    "    - **Creazione train set e test set**: il dataset verrà diviso in due parti: una parte verrà utilizzata per la fase di training, l'altra per la fase di testing\n",
    "\n",
    "    - **Training**: in questa fase avverrà l'addestramento del modello con i dati del training set con il metodo scelto nella fase di analisi esplorativa\n",
    "\n",
    "    - **Testing**: a questo punto sarà possibile valutare l'accuratezza del modello\n",
    "\n",
    "    - **Raccolta dei risultati**: in questa fase verranno raccolte le accuratezze ottenute dal metodo di training. Questi dati verranno messi a confronto nella fase di analisi conclusiva"
   ]
  },
  {
   "attachments": {},
   "cell_type": "markdown",
   "metadata": {},
   "source": [
    "È possibile modificare la seguente variabile globale per modificare la percentuale di rapporto *train_set*/*test_set* che verrà usata per tutti i test.\n",
    "\n",
    "Ad esempio se inserisco il valore 80, l'80% del dataset totale verrà assegnato al *train_set*, mentre il rimanente 20% verrà utilizzato come *test_set*:"
   ]
  },
  {
   "cell_type": "code",
   "execution_count": 1,
   "metadata": {},
   "outputs": [],
   "source": [
    "# - - - - - - - - - - - - - #\n",
    "train_set_percentage = 80\n",
    "# - - - - - - - - - - - - - #"
   ]
  },
  {
   "attachments": {},
   "cell_type": "markdown",
   "metadata": {},
   "source": [
    "---"
   ]
  },
  {
   "attachments": {},
   "cell_type": "markdown",
   "metadata": {},
   "source": [
    "# 3 - **Inizializzazione**"
   ]
  },
  {
   "cell_type": "markdown",
   "metadata": {},
   "source": [
    "Importazione librerie necessarie:"
   ]
  },
  {
   "cell_type": "code",
   "execution_count": 2,
   "metadata": {},
   "outputs": [],
   "source": [
    "import pandas as pd\n",
    "import missingno as msno\n",
    "import matplotlib.pyplot as plt\n",
    "import nltk\n",
    "import re\n",
    "import random\n",
    "from bs4 import BeautifulSoup\n",
    "from nltk.tokenize.toktok import ToktokTokenizer\n",
    "from itertools import chain\n",
    "from sklearn.feature_extraction.text import CountVectorizer\n",
    "from sklearn.feature_extraction.text import TfidfTransformer\n",
    "from sklearn.naive_bayes import MultinomialNB\n",
    "from sklearn.linear_model import SGDClassifier\n",
    "from sklearn.pipeline import Pipeline\n",
    "from sklearn import metrics\n",
    "from sklearn.model_selection import GridSearchCV\n",
    "from sklearn.model_selection import ShuffleSplit\n",
    " \n",
    "import warnings\n",
    "warnings.simplefilter(action='ignore')"
   ]
  },
  {
   "cell_type": "markdown",
   "metadata": {},
   "source": [
    "Importazione del dataset:"
   ]
  },
  {
   "cell_type": "code",
   "execution_count": 3,
   "metadata": {},
   "outputs": [
    {
     "name": "stdout",
     "output_type": "stream",
     "text": [
      "Numero di records: 29245\n",
      "Numero di colonne: 7\n"
     ]
    },
    {
     "data": {
      "text/html": [
       "<div>\n",
       "<style scoped>\n",
       "    .dataframe tbody tr th:only-of-type {\n",
       "        vertical-align: middle;\n",
       "    }\n",
       "\n",
       "    .dataframe tbody tr th {\n",
       "        vertical-align: top;\n",
       "    }\n",
       "\n",
       "    .dataframe thead th {\n",
       "        text-align: right;\n",
       "    }\n",
       "</style>\n",
       "<table border=\"1\" class=\"dataframe\">\n",
       "  <thead>\n",
       "    <tr style=\"text-align: right;\">\n",
       "      <th></th>\n",
       "      <th>Unnamed: 0.1</th>\n",
       "      <th>Category</th>\n",
       "      <th>Description</th>\n",
       "      <th>Title</th>\n",
       "      <th>Unnamed: 0</th>\n",
       "      <th>Video Id</th>\n",
       "      <th>file</th>\n",
       "    </tr>\n",
       "  </thead>\n",
       "  <tbody>\n",
       "    <tr>\n",
       "      <th>0</th>\n",
       "      <td>0</td>\n",
       "      <td>travel</td>\n",
       "      <td>DISCLAIMER* Please do not ride elephants when ...</td>\n",
       "      <td>Welcome to Bali | Travel Vlog | Priscilla Lee</td>\n",
       "      <td>0</td>\n",
       "      <td>i9E_Blai8vk</td>\n",
       "      <td>Collected_data_raw1.csv</td>\n",
       "    </tr>\n",
       "    <tr>\n",
       "      <th>1</th>\n",
       "      <td>1</td>\n",
       "      <td>travel</td>\n",
       "      <td>Had the most amazing experience in Finland for...</td>\n",
       "      <td>FINLAND VACATION: TRAVEL VLOG</td>\n",
       "      <td>1</td>\n",
       "      <td>UBvJKs9eW3I</td>\n",
       "      <td>Collected_data_raw1.csv</td>\n",
       "    </tr>\n",
       "    <tr>\n",
       "      <th>2</th>\n",
       "      <td>2</td>\n",
       "      <td>travel</td>\n",
       "      <td>Hello loves Today's video is the Vlog of my tr...</td>\n",
       "      <td>MYKONOS GREECE TRAVEL VLOG 2020 |  Living our ...</td>\n",
       "      <td>2</td>\n",
       "      <td>jeIQ_Z35HZ4</td>\n",
       "      <td>Collected_data_raw1.csv</td>\n",
       "    </tr>\n",
       "    <tr>\n",
       "      <th>3</th>\n",
       "      <td>3</td>\n",
       "      <td>travel</td>\n",
       "      <td>Thank you so much for watching! I hope you fou...</td>\n",
       "      <td>TRAVEL VLOG: SANTORINI, GREECE</td>\n",
       "      <td>3</td>\n",
       "      <td>EthqIhPtd2I</td>\n",
       "      <td>Collected_data_raw1.csv</td>\n",
       "    </tr>\n",
       "    <tr>\n",
       "      <th>4</th>\n",
       "      <td>4</td>\n",
       "      <td>travel</td>\n",
       "      <td>Las Vegas Travel Vlog 2020 - Pandemic Version....</td>\n",
       "      <td>Las Vegas Travel Vlog 2020 | Pandemic Edition</td>\n",
       "      <td>4</td>\n",
       "      <td>X0F0Dh8ut3U</td>\n",
       "      <td>Collected_data_raw1.csv</td>\n",
       "    </tr>\n",
       "    <tr>\n",
       "      <th>5</th>\n",
       "      <td>5</td>\n",
       "      <td>travel</td>\n",
       "      <td>Follow along a travel day in my life!! LINKS: ...</td>\n",
       "      <td>TRAVEL DAY VLOG: Airport Essentials, What&amp;#39;...</td>\n",
       "      <td>5</td>\n",
       "      <td>USGN-aTzlG4</td>\n",
       "      <td>Collected_data_raw1.csv</td>\n",
       "    </tr>\n",
       "    <tr>\n",
       "      <th>6</th>\n",
       "      <td>6</td>\n",
       "      <td>travel</td>\n",
       "      <td>i still cant believe they had philz on the pla...</td>\n",
       "      <td>just a travel vlog. nothing special.</td>\n",
       "      <td>6</td>\n",
       "      <td>wfIWTD30gCw</td>\n",
       "      <td>Collected_data_raw1.csv</td>\n",
       "    </tr>\n",
       "    <tr>\n",
       "      <th>7</th>\n",
       "      <td>7</td>\n",
       "      <td>travel</td>\n",
       "      <td>This past March of 2020 we visited The Maldive...</td>\n",
       "      <td>LUXURY MALDIVES EXPERIENCE | TRAVEL VLOG</td>\n",
       "      <td>7</td>\n",
       "      <td>FaeQtn3-h4w</td>\n",
       "      <td>Collected_data_raw1.csv</td>\n",
       "    </tr>\n",
       "    <tr>\n",
       "      <th>8</th>\n",
       "      <td>8</td>\n",
       "      <td>travel</td>\n",
       "      <td>INSTA: https://instagram.com/annaheid?igshid=x...</td>\n",
       "      <td>travel vlog: airport at 4 am on CHRISTMAS!!</td>\n",
       "      <td>8</td>\n",
       "      <td>DD-Znv9vV5s</td>\n",
       "      <td>Collected_data_raw1.csv</td>\n",
       "    </tr>\n",
       "    <tr>\n",
       "      <th>9</th>\n",
       "      <td>9</td>\n",
       "      <td>travel</td>\n",
       "      <td>We are selecting one person who makes a purcha...</td>\n",
       "      <td>Traveling to the Happiest Country in the World!!</td>\n",
       "      <td>9</td>\n",
       "      <td>Qmi-Xwq-MEc</td>\n",
       "      <td>Collected_data_raw1.csv</td>\n",
       "    </tr>\n",
       "  </tbody>\n",
       "</table>\n",
       "</div>"
      ],
      "text/plain": [
       "   Unnamed: 0.1 Category                                        Description  \\\n",
       "0             0   travel  DISCLAIMER* Please do not ride elephants when ...   \n",
       "1             1   travel  Had the most amazing experience in Finland for...   \n",
       "2             2   travel  Hello loves Today's video is the Vlog of my tr...   \n",
       "3             3   travel  Thank you so much for watching! I hope you fou...   \n",
       "4             4   travel  Las Vegas Travel Vlog 2020 - Pandemic Version....   \n",
       "5             5   travel  Follow along a travel day in my life!! LINKS: ...   \n",
       "6             6   travel  i still cant believe they had philz on the pla...   \n",
       "7             7   travel  This past March of 2020 we visited The Maldive...   \n",
       "8             8   travel  INSTA: https://instagram.com/annaheid?igshid=x...   \n",
       "9             9   travel  We are selecting one person who makes a purcha...   \n",
       "\n",
       "                                               Title  Unnamed: 0     Video Id  \\\n",
       "0      Welcome to Bali | Travel Vlog | Priscilla Lee           0  i9E_Blai8vk   \n",
       "1                      FINLAND VACATION: TRAVEL VLOG           1  UBvJKs9eW3I   \n",
       "2  MYKONOS GREECE TRAVEL VLOG 2020 |  Living our ...           2  jeIQ_Z35HZ4   \n",
       "3                     TRAVEL VLOG: SANTORINI, GREECE           3  EthqIhPtd2I   \n",
       "4      Las Vegas Travel Vlog 2020 | Pandemic Edition           4  X0F0Dh8ut3U   \n",
       "5  TRAVEL DAY VLOG: Airport Essentials, What&#39;...           5  USGN-aTzlG4   \n",
       "6               just a travel vlog. nothing special.           6  wfIWTD30gCw   \n",
       "7           LUXURY MALDIVES EXPERIENCE | TRAVEL VLOG           7  FaeQtn3-h4w   \n",
       "8        travel vlog: airport at 4 am on CHRISTMAS!!           8  DD-Znv9vV5s   \n",
       "9   Traveling to the Happiest Country in the World!!           9  Qmi-Xwq-MEc   \n",
       "\n",
       "                      file  \n",
       "0  Collected_data_raw1.csv  \n",
       "1  Collected_data_raw1.csv  \n",
       "2  Collected_data_raw1.csv  \n",
       "3  Collected_data_raw1.csv  \n",
       "4  Collected_data_raw1.csv  \n",
       "5  Collected_data_raw1.csv  \n",
       "6  Collected_data_raw1.csv  \n",
       "7  Collected_data_raw1.csv  \n",
       "8  Collected_data_raw1.csv  \n",
       "9  Collected_data_raw1.csv  "
      ]
     },
     "execution_count": 3,
     "metadata": {},
     "output_type": "execute_result"
    }
   ],
   "source": [
    "yt = pd.read_csv('youtube-videos.csv')\n",
    "\n",
    "print('Numero di records:', yt.shape[0])\n",
    "print('Numero di colonne:', yt.shape[1])\n",
    "yt.head(10)"
   ]
  },
  {
   "attachments": {},
   "cell_type": "markdown",
   "metadata": {},
   "source": [
    "---"
   ]
  },
  {
   "attachments": {},
   "cell_type": "markdown",
   "metadata": {},
   "source": [
    "# 4 - **Raccolta dei dati**"
   ]
  },
  {
   "attachments": {},
   "cell_type": "markdown",
   "metadata": {},
   "source": [
    "Il dataset è stato scaricato dal sito [kaggle.com](https://www.kaggle.com/) ed è consultabile e scaricabile **[QUI](https://www.kaggle.com/datasets/aashishbidap/youtube-api-data-for-text-categorization)**.\n",
    "\n",
    "Come da traccia del progetto, è stato scelto appositamente un dataset che privo di alcun notebook o discussione associato ad esso."
   ]
  },
  {
   "attachments": {},
   "cell_type": "markdown",
   "metadata": {},
   "source": [
    "---"
   ]
  },
  {
   "attachments": {},
   "cell_type": "markdown",
   "metadata": {},
   "source": [
    "# 5 - **Pulizia del dataset**"
   ]
  },
  {
   "attachments": {},
   "cell_type": "markdown",
   "metadata": {},
   "source": [
    "Rimuovo le colonne superflue alla classificazione per questioni di efficienza:"
   ]
  },
  {
   "cell_type": "code",
   "execution_count": 4,
   "metadata": {},
   "outputs": [
    {
     "name": "stdout",
     "output_type": "stream",
     "text": [
      "Numero di records: 29245\n",
      "Numero di colonne: 4\n"
     ]
    },
    {
     "data": {
      "text/html": [
       "<div>\n",
       "<style scoped>\n",
       "    .dataframe tbody tr th:only-of-type {\n",
       "        vertical-align: middle;\n",
       "    }\n",
       "\n",
       "    .dataframe tbody tr th {\n",
       "        vertical-align: top;\n",
       "    }\n",
       "\n",
       "    .dataframe thead th {\n",
       "        text-align: right;\n",
       "    }\n",
       "</style>\n",
       "<table border=\"1\" class=\"dataframe\">\n",
       "  <thead>\n",
       "    <tr style=\"text-align: right;\">\n",
       "      <th></th>\n",
       "      <th>Category</th>\n",
       "      <th>Description</th>\n",
       "      <th>Title</th>\n",
       "      <th>Video Id</th>\n",
       "    </tr>\n",
       "  </thead>\n",
       "  <tbody>\n",
       "    <tr>\n",
       "      <th>0</th>\n",
       "      <td>travel</td>\n",
       "      <td>DISCLAIMER* Please do not ride elephants when ...</td>\n",
       "      <td>Welcome to Bali | Travel Vlog | Priscilla Lee</td>\n",
       "      <td>i9E_Blai8vk</td>\n",
       "    </tr>\n",
       "    <tr>\n",
       "      <th>1</th>\n",
       "      <td>travel</td>\n",
       "      <td>Had the most amazing experience in Finland for...</td>\n",
       "      <td>FINLAND VACATION: TRAVEL VLOG</td>\n",
       "      <td>UBvJKs9eW3I</td>\n",
       "    </tr>\n",
       "    <tr>\n",
       "      <th>2</th>\n",
       "      <td>travel</td>\n",
       "      <td>Hello loves Today's video is the Vlog of my tr...</td>\n",
       "      <td>MYKONOS GREECE TRAVEL VLOG 2020 |  Living our ...</td>\n",
       "      <td>jeIQ_Z35HZ4</td>\n",
       "    </tr>\n",
       "    <tr>\n",
       "      <th>3</th>\n",
       "      <td>travel</td>\n",
       "      <td>Thank you so much for watching! I hope you fou...</td>\n",
       "      <td>TRAVEL VLOG: SANTORINI, GREECE</td>\n",
       "      <td>EthqIhPtd2I</td>\n",
       "    </tr>\n",
       "    <tr>\n",
       "      <th>4</th>\n",
       "      <td>travel</td>\n",
       "      <td>Las Vegas Travel Vlog 2020 - Pandemic Version....</td>\n",
       "      <td>Las Vegas Travel Vlog 2020 | Pandemic Edition</td>\n",
       "      <td>X0F0Dh8ut3U</td>\n",
       "    </tr>\n",
       "    <tr>\n",
       "      <th>5</th>\n",
       "      <td>travel</td>\n",
       "      <td>Follow along a travel day in my life!! LINKS: ...</td>\n",
       "      <td>TRAVEL DAY VLOG: Airport Essentials, What&amp;#39;...</td>\n",
       "      <td>USGN-aTzlG4</td>\n",
       "    </tr>\n",
       "    <tr>\n",
       "      <th>6</th>\n",
       "      <td>travel</td>\n",
       "      <td>i still cant believe they had philz on the pla...</td>\n",
       "      <td>just a travel vlog. nothing special.</td>\n",
       "      <td>wfIWTD30gCw</td>\n",
       "    </tr>\n",
       "    <tr>\n",
       "      <th>7</th>\n",
       "      <td>travel</td>\n",
       "      <td>This past March of 2020 we visited The Maldive...</td>\n",
       "      <td>LUXURY MALDIVES EXPERIENCE | TRAVEL VLOG</td>\n",
       "      <td>FaeQtn3-h4w</td>\n",
       "    </tr>\n",
       "    <tr>\n",
       "      <th>8</th>\n",
       "      <td>travel</td>\n",
       "      <td>INSTA: https://instagram.com/annaheid?igshid=x...</td>\n",
       "      <td>travel vlog: airport at 4 am on CHRISTMAS!!</td>\n",
       "      <td>DD-Znv9vV5s</td>\n",
       "    </tr>\n",
       "    <tr>\n",
       "      <th>9</th>\n",
       "      <td>travel</td>\n",
       "      <td>We are selecting one person who makes a purcha...</td>\n",
       "      <td>Traveling to the Happiest Country in the World!!</td>\n",
       "      <td>Qmi-Xwq-MEc</td>\n",
       "    </tr>\n",
       "  </tbody>\n",
       "</table>\n",
       "</div>"
      ],
      "text/plain": [
       "  Category                                        Description  \\\n",
       "0   travel  DISCLAIMER* Please do not ride elephants when ...   \n",
       "1   travel  Had the most amazing experience in Finland for...   \n",
       "2   travel  Hello loves Today's video is the Vlog of my tr...   \n",
       "3   travel  Thank you so much for watching! I hope you fou...   \n",
       "4   travel  Las Vegas Travel Vlog 2020 - Pandemic Version....   \n",
       "5   travel  Follow along a travel day in my life!! LINKS: ...   \n",
       "6   travel  i still cant believe they had philz on the pla...   \n",
       "7   travel  This past March of 2020 we visited The Maldive...   \n",
       "8   travel  INSTA: https://instagram.com/annaheid?igshid=x...   \n",
       "9   travel  We are selecting one person who makes a purcha...   \n",
       "\n",
       "                                               Title     Video Id  \n",
       "0      Welcome to Bali | Travel Vlog | Priscilla Lee  i9E_Blai8vk  \n",
       "1                      FINLAND VACATION: TRAVEL VLOG  UBvJKs9eW3I  \n",
       "2  MYKONOS GREECE TRAVEL VLOG 2020 |  Living our ...  jeIQ_Z35HZ4  \n",
       "3                     TRAVEL VLOG: SANTORINI, GREECE  EthqIhPtd2I  \n",
       "4      Las Vegas Travel Vlog 2020 | Pandemic Edition  X0F0Dh8ut3U  \n",
       "5  TRAVEL DAY VLOG: Airport Essentials, What&#39;...  USGN-aTzlG4  \n",
       "6               just a travel vlog. nothing special.  wfIWTD30gCw  \n",
       "7           LUXURY MALDIVES EXPERIENCE | TRAVEL VLOG  FaeQtn3-h4w  \n",
       "8        travel vlog: airport at 4 am on CHRISTMAS!!  DD-Znv9vV5s  \n",
       "9   Traveling to the Happiest Country in the World!!  Qmi-Xwq-MEc  "
      ]
     },
     "execution_count": 4,
     "metadata": {},
     "output_type": "execute_result"
    }
   ],
   "source": [
    "del yt['file']\n",
    "del yt['Unnamed: 0']\n",
    "del yt['Unnamed: 0.1']\n",
    "\n",
    "print('Numero di records:', yt.shape[0])\n",
    "print('Numero di colonne:', yt.shape[1])\n",
    "yt.head(10)"
   ]
  },
  {
   "cell_type": "markdown",
   "metadata": {},
   "source": [
    "Controllo se il dataset è completo:"
   ]
  },
  {
   "cell_type": "code",
   "execution_count": 5,
   "metadata": {},
   "outputs": [
    {
     "data": {
      "image/png": "[encoded data removed]",
      "text/plain": [
       "<Figure size 1800x720 with 2 Axes>"
      ]
     },
     "metadata": {
      "needs_background": "light"
     },
     "output_type": "display_data"
    }
   ],
   "source": [
    "msno.matrix(yt);"
   ]
  },
  {
   "cell_type": "markdown",
   "metadata": {},
   "source": [
    "È possibile notare che vi sono video che non presentano la descrizione. Poiché il campo della descrizione è necessario, si può procedere con la rimozione di tali records:"
   ]
  },
  {
   "cell_type": "code",
   "execution_count": 6,
   "metadata": {},
   "outputs": [],
   "source": [
    "yt.dropna(axis=0, how='any',inplace=True)"
   ]
  },
  {
   "cell_type": "code",
   "execution_count": 7,
   "metadata": {},
   "outputs": [
    {
     "data": {
      "image/png": "[encoded data removed]",
      "text/plain": [
       "<Figure size 1800x720 with 2 Axes>"
      ]
     },
     "metadata": {
      "needs_background": "light"
     },
     "output_type": "display_data"
    }
   ],
   "source": [
    "msno.matrix(yt);"
   ]
  },
  {
   "attachments": {},
   "cell_type": "markdown",
   "metadata": {},
   "source": [
    "A questo punto, il focus può passare sulla pulizia del testo, in modo tale da estrarre da quest'ultimo delle informazioni utili per addestrare il modello nella maniera più efficiente possibile."
   ]
  },
  {
   "attachments": {},
   "cell_type": "markdown",
   "metadata": {},
   "source": [
    "---"
   ]
  },
  {
   "attachments": {},
   "cell_type": "markdown",
   "metadata": {},
   "source": [
    "# 6 - **Pulizia del testo**"
   ]
  },
  {
   "cell_type": "markdown",
   "metadata": {},
   "source": [
    "Unisco le colonne Title e Description in una nuova colonna chiamata Tokens:"
   ]
  },
  {
   "cell_type": "code",
   "execution_count": 8,
   "metadata": {},
   "outputs": [],
   "source": [
    "yt['Tokens'] = yt['Title'] + ' ' + yt['Description']\n",
    "\n",
    "del yt['Title']\n",
    "del yt['Description']"
   ]
  },
  {
   "attachments": {},
   "cell_type": "markdown",
   "metadata": {},
   "source": [
    "Rimuovo elementi superflui quali codice html, urls, caratteri speciali e stopwords:"
   ]
  },
  {
   "cell_type": "code",
   "execution_count": 9,
   "metadata": {},
   "outputs": [],
   "source": [
    "def remove_html(text):\n",
    "    bs = BeautifulSoup(text, \"html.parser\")\n",
    "    return bs.get_text()\n",
    "\n",
    "def remove_urls(text):\n",
    "    return re.sub('http[s]?://(?:[a-zA-Z]|[0-9]|[$-_@.&+]|[!*\\(\\),]|(?:%[0-9a-fA-F][0-9a-fA-F]))+', '', text)\n",
    "\n",
    "def remove_special_characters(text, remove_digits=True):\n",
    "    pattern=r'[^a-zA-z0-9\\s]'\n",
    "    text=re.sub(pattern,'',text)\n",
    "    return text\n",
    "\n",
    "def remove_stopwords(text, is_lower_case=False):\n",
    "    stopword_list = nltk.corpus.stopwords.words('english')\n",
    "    tokenizer = ToktokTokenizer()\n",
    "\n",
    "    tokens = tokenizer.tokenize(text)\n",
    "    tokens = [token.strip() for token in tokens]\n",
    "    if is_lower_case:\n",
    "        filtered_tokens = [token for token in tokens if token not in stopword_list]\n",
    "    else:\n",
    "        filtered_tokens = [token for token in tokens if token.lower() not in stopword_list]\n",
    "    filtered_text = ' '.join(filtered_tokens)    \n",
    "    return filtered_text\n",
    "\n",
    "yt['Tokens'] = yt['Tokens'].apply(remove_html)\n",
    "yt['Tokens'] = yt['Tokens'].apply(remove_urls)\n",
    "yt['Tokens'] = yt['Tokens'].apply(remove_special_characters)\n",
    "yt['Tokens'] = yt['Tokens'].apply(remove_stopwords)"
   ]
  },
  {
   "attachments": {},
   "cell_type": "markdown",
   "metadata": {},
   "source": [
    "Stemming del testo (riduco ogni parola in forma flessa nella sua radice):"
   ]
  },
  {
   "cell_type": "code",
   "execution_count": 10,
   "metadata": {},
   "outputs": [],
   "source": [
    "def stemmer(text):\n",
    "    ps=nltk.porter.PorterStemmer()\n",
    "    text= ' '.join([ps.stem(word) for word in text.split()])\n",
    "    return text\n",
    "\n",
    "yt['Tokens'] = yt['Tokens'].apply(stemmer)"
   ]
  },
  {
   "attachments": {},
   "cell_type": "markdown",
   "metadata": {},
   "source": [
    "---"
   ]
  },
  {
   "attachments": {},
   "cell_type": "markdown",
   "metadata": {},
   "source": [
    "# 7 - **Tokenizzazione**"
   ]
  },
  {
   "attachments": {},
   "cell_type": "markdown",
   "metadata": {},
   "source": [
    "Separo il testo in parole singole, detti *token*:"
   ]
  },
  {
   "cell_type": "code",
   "execution_count": 11,
   "metadata": {},
   "outputs": [],
   "source": [
    "yt['Tokens'] = yt['Tokens'].apply(nltk.word_tokenize)"
   ]
  },
  {
   "cell_type": "markdown",
   "metadata": {},
   "source": [
    "Il dataset è pronto alla fase di analisi esplorativa."
   ]
  },
  {
   "attachments": {},
   "cell_type": "markdown",
   "metadata": {},
   "source": [
    "---"
   ]
  },
  {
   "attachments": {},
   "cell_type": "markdown",
   "metadata": {},
   "source": [
    "# 8 - **Analisi esplorativa**"
   ]
  },
  {
   "attachments": {},
   "cell_type": "markdown",
   "metadata": {},
   "source": [
    "Ricavo le dimensioni del dataset:"
   ]
  },
  {
   "cell_type": "code",
   "execution_count": 12,
   "metadata": {},
   "outputs": [
    {
     "name": "stdout",
     "output_type": "stream",
     "text": [
      "Numero di records totali: 28509\n",
      "Numero di token totali: 606574\n"
     ]
    }
   ],
   "source": [
    "print('Numero di records totali:', len(yt['Tokens']))\n",
    "print('Numero di token totali:', sum([len(i) for i in yt['Tokens']]))"
   ]
  },
  {
   "cell_type": "markdown",
   "metadata": {},
   "source": [
    "Struttura:"
   ]
  },
  {
   "cell_type": "code",
   "execution_count": 13,
   "metadata": {},
   "outputs": [
    {
     "data": {
      "text/html": [
       "<div>\n",
       "<style scoped>\n",
       "    .dataframe tbody tr th:only-of-type {\n",
       "        vertical-align: middle;\n",
       "    }\n",
       "\n",
       "    .dataframe tbody tr th {\n",
       "        vertical-align: top;\n",
       "    }\n",
       "\n",
       "    .dataframe thead th {\n",
       "        text-align: right;\n",
       "    }\n",
       "</style>\n",
       "<table border=\"1\" class=\"dataframe\">\n",
       "  <thead>\n",
       "    <tr style=\"text-align: right;\">\n",
       "      <th></th>\n",
       "      <th>Category</th>\n",
       "      <th>Video Id</th>\n",
       "      <th>Tokens</th>\n",
       "    </tr>\n",
       "  </thead>\n",
       "  <tbody>\n",
       "    <tr>\n",
       "      <th>0</th>\n",
       "      <td>travel</td>\n",
       "      <td>i9E_Blai8vk</td>\n",
       "      <td>[welcom, bali, travel, vlog, priscilla, lee, d...</td>\n",
       "    </tr>\n",
       "    <tr>\n",
       "      <th>1</th>\n",
       "      <td>travel</td>\n",
       "      <td>UBvJKs9eW3I</td>\n",
       "      <td>[finland, vacat, travel, vlog, amaz, experi, f...</td>\n",
       "    </tr>\n",
       "    <tr>\n",
       "      <th>2</th>\n",
       "      <td>travel</td>\n",
       "      <td>jeIQ_Z35HZ4</td>\n",
       "      <td>[mykono, greec, travel, vlog, 2020, live, best...</td>\n",
       "    </tr>\n",
       "    <tr>\n",
       "      <th>3</th>\n",
       "      <td>travel</td>\n",
       "      <td>EthqIhPtd2I</td>\n",
       "      <td>[travel, vlog, santorini, greec, thank, much, ...</td>\n",
       "    </tr>\n",
       "    <tr>\n",
       "      <th>4</th>\n",
       "      <td>travel</td>\n",
       "      <td>X0F0Dh8ut3U</td>\n",
       "      <td>[la, vega, travel, vlog, 2020, pandem, edit, l...</td>\n",
       "    </tr>\n",
       "  </tbody>\n",
       "</table>\n",
       "</div>"
      ],
      "text/plain": [
       "  Category     Video Id                                             Tokens\n",
       "0   travel  i9E_Blai8vk  [welcom, bali, travel, vlog, priscilla, lee, d...\n",
       "1   travel  UBvJKs9eW3I  [finland, vacat, travel, vlog, amaz, experi, f...\n",
       "2   travel  jeIQ_Z35HZ4  [mykono, greec, travel, vlog, 2020, live, best...\n",
       "3   travel  EthqIhPtd2I  [travel, vlog, santorini, greec, thank, much, ...\n",
       "4   travel  X0F0Dh8ut3U  [la, vega, travel, vlog, 2020, pandem, edit, l..."
      ]
     },
     "execution_count": 13,
     "metadata": {},
     "output_type": "execute_result"
    }
   ],
   "source": [
    "yt.head()"
   ]
  },
  {
   "attachments": {},
   "cell_type": "markdown",
   "metadata": {},
   "source": [
    "I *tokens* sono organizzati in liste, e ad ogni lista di token vi è associata una categoria."
   ]
  },
  {
   "attachments": {},
   "cell_type": "markdown",
   "metadata": {},
   "source": [
    "Conto ed elenco tutte le categorie:"
   ]
  },
  {
   "cell_type": "code",
   "execution_count": 14,
   "metadata": {},
   "outputs": [
    {
     "name": "stdout",
     "output_type": "stream",
     "text": [
      "Numero di categorie: 9 \n",
      "\n",
      "- travel\n",
      "- science and technology\n",
      "- food\n",
      "- manufacturing\n",
      "- history\n",
      "- art and music\n",
      "- nature\n",
      "- sports\n",
      "- adventure\n"
     ]
    }
   ],
   "source": [
    "categories = yt['Category'].unique()\n",
    "\n",
    "print('Numero di categorie:', categories.size, '\\n')\n",
    "\n",
    "for i in categories:\n",
    "    print('-', i)"
   ]
  },
  {
   "attachments": {},
   "cell_type": "markdown",
   "metadata": {},
   "source": [
    "Confronto tra i video per categoria:"
   ]
  },
  {
   "cell_type": "code",
   "execution_count": 15,
   "metadata": {},
   "outputs": [
    {
     "data": {
      "image/png": "[encoded data removed]",
      "text/plain": [
       "<Figure size 1080x360 with 1 Axes>"
      ]
     },
     "metadata": {
      "needs_background": "light"
     },
     "output_type": "display_data"
    }
   ],
   "source": [
    "c = yt['Category'].value_counts()\n",
    "\n",
    "plt.figure(figsize=(15,5))\n",
    "plt.bar(c.index, c.values, color = 'darkgrey')\n",
    "plt.xlabel('Categoria')\n",
    "plt.ylabel('Numero di video')\n",
    "plt.xticks(rotation=15)\n",
    "plt.show();"
   ]
  },
  {
   "attachments": {},
   "cell_type": "markdown",
   "metadata": {},
   "source": [
    "Esplorato il dataset, si possono estrarre le seguenti informazioni, utili per la scelta dei metodi di apprendimento da applicare:\n",
    "\n",
    "- nel dataset sono presenti ~30k records, con un totale di ~600k token. Nonostante sia un numero abbastanza alto di informazioni, per istruire nella maniera più efficiente possibile il modello in questione, sarà necessario applicare sfruttare tecniche particolari nella fase di training, come la **cross-validation**, che consiste nell'effettuare più iterazioni sullo stesso dataset, prendendo di volta in volta porzioni diverse del dataset da usare come training set e test set.\n",
    "\n",
    "- per la scelta valori ottimali degli iperparametri si può utilizzare la tecnica del **grid-search**\n",
    "\n",
    "- il dataset contiene video di categorie sparse uniformemente, quindi non dovrebbero esserci problemi di overfitting (o underfitting) su determinate categorie. Si prevede una accuratezza inferiore per i video della categoria *adventure*, poiché i records totali di quest'ultima sono circa la metà di quelli della categoria *science and technology*\n",
    "\n",
    "- poiché nel dataset i records dei video della stessa cateogria sono consecutivi, sarà necessario effettuare uno shuffle dei documenti prima di eseguire la fase di training, a prescindere dalla presenza del **cross-validation**."
   ]
  },
  {
   "attachments": {},
   "cell_type": "markdown",
   "metadata": {},
   "source": [
    "Per quanto riguarda la scelta dei metodi per la classificazione, vi sono numerose alternative. \n",
    "\n",
    "In questo progetto, ho deciso di testare i seguenti algoritmi:"
   ]
  },
  {
   "attachments": {},
   "cell_type": "markdown",
   "metadata": {},
   "source": [
    "## | Naive Bayes\n",
    "Algoritmo semplice e veloce, che considera indipendenti tra loro le varie caratteristiche (*features*) del modello, quindi non considerando eventuali correlazioni tra esse.\n",
    "\n",
    "È un algoritmo probabilistico che calcola la probabilità di ogni etichetta per un determinato oggetto osservando le sue caratteristiche. Poi sceglie l'etichetta con probabilità maggiore.\n",
    "\n",
    "Per calcolare la probabilità delle singole etichette usa il *teorema di Bayes*:\n",
    ">**P**(**A**|**E**) = [**P**(**E**|**A**) * **P**(**A**)] / **P**(**E**)\n",
    "\n",
    "in cui:\n",
    "- **P**(**A**) è la probabilità a priori di **A**, ovvero senza considerare **P**(**E**)\n",
    "\n",
    "- **P**(**E**) è la probabilità a priori di **E**, ovvero senza considerare **P**(**A**)\n",
    "\n",
    "- **P**(**A**|**E**) è la probabilità condizionata dell'evento **A** considerando le informazioni sull'evento **E**\n",
    "\n",
    "- **P**(**E**|**A**) è la probabilità condizionata dell'evento **E** considerando le informazioni sull'evento **A**\n",
    "\n",
    "Verranno testate sia l'implementazione di questo algoritmo presente nella libreria *NLTK* che quella presente in *SciKit Learn*"
   ]
  },
  {
   "attachments": {},
   "cell_type": "markdown",
   "metadata": {},
   "source": [
    "## | SGD Classifier\n",
    "**S**tochastic **G**radient **D**escend è un classificatore lineare ottimizzato dal gradiente stocastico discendente.\n",
    "\n",
    "Generalizzando, il gradiente stocastico ha il compito di minimizzare una funzione di costo. Per questo motivo, ha molteplici applicazioni nel campo del machine learning, tra cui appunto la classificazione multiclasse per quanto riguarda il text mining.\n",
    "\n",
    "verrà testata la sua implementazione di questo algoritmo presente nella libreria *SciKit Learn*."
   ]
  },
  {
   "attachments": {},
   "cell_type": "markdown",
   "metadata": {},
   "source": [
    "Di seguito sono elencati i tre algoritmi con cui verrà separatamente istruito il dataset:\n",
    "\n",
    "- <b style=\"color:slateblue;\">Naive Bayes</b>, nella sua implementazione presente nella libreria <b style=\"color:slateblue;\">NLTK</b>\n",
    "\n",
    "- <b style=\"color:green;\">Naive Bayes</b>, nella sua implementazione presente nella libreria <b style=\"color:green;\">SciKit Learn</b>\n",
    "\n",
    "- <b style=\"color:tomato;\">SGD Classifier</b>, nella sua implementazione presente nella libreria <b style=\"color:tomato;\">SciKit Learn</b>\n",
    "\n",
    "Tutti e tre gli algoritmi eseguiranno su *train_set* e *test_set* di eguali dimensioni.\n",
    "\n",
    "Inoltre sono stati testati manualmente i tre algoritmi con diverse dimensioni di *train_set* e *test_set*, raccogliendo di volta in volta le percentuali di accuratezza calcolate.\n",
    "\n",
    "Saranno consultabili sia nelle sezioni di raccolta risultati che nell'analisi conclusiva. "
   ]
  },
  {
   "attachments": {},
   "cell_type": "markdown",
   "metadata": {},
   "source": [
    "---"
   ]
  },
  {
   "attachments": {},
   "cell_type": "markdown",
   "metadata": {},
   "source": [
    "# 9 - **NLTK** - *Naive Bayes*"
   ]
  },
  {
   "attachments": {},
   "cell_type": "markdown",
   "metadata": {},
   "source": [
    "## | Creazione train set e test set\n",
    "**NLTK** - *Naive Bayes*"
   ]
  },
  {
   "attachments": {},
   "cell_type": "markdown",
   "metadata": {},
   "source": [
    "Procedo con la creazione un sistema che permetta di dividere il dataset tra train set e test set usando una percentuale inserita dall'utente:"
   ]
  },
  {
   "cell_type": "code",
   "execution_count": 16,
   "metadata": {},
   "outputs": [],
   "source": [
    "test_set_percentage = 100-train_set_percentage\n",
    "\n",
    "total_size = yt.shape[0]\n",
    "\n",
    "train_set_size = total_size//100*train_set_percentage"
   ]
  },
  {
   "attachments": {},
   "cell_type": "markdown",
   "metadata": {},
   "source": [
    "In questo modo, cambiando il valore della variabile **train_set_percentage** è possibile cambiare la percentuale di dataset che verrà dedicata al *train_set*, e la cui parte restante verrà utilizzata come *test set*."
   ]
  },
  {
   "attachments": {},
   "cell_type": "markdown",
   "metadata": {},
   "source": [
    "A questo punto è possibile creare il **feature_set** che conterrà le informazioni relative alle parole contenute in ciascun titolo/descrizione dei video.\n",
    "\n",
    "Il **feature_set** verrà poi diviso in **train_set** e **test_set** a seconda del rapporto percentuale precedentemente inserito dall'utente:"
   ]
  },
  {
   "cell_type": "code",
   "execution_count": 17,
   "metadata": {},
   "outputs": [],
   "source": [
    "docs = [(yt['Tokens'].to_list()[i], yt['Category'].to_list()[i]) for i in range(len(yt))]\n",
    "\n",
    "#shuffle dei documenti per evitare overfitting o underfitting\n",
    "random.shuffle(docs)\n",
    "\n",
    "allWords = [word.lower() for doc in docs for word in doc[0]]\n",
    "\n",
    "vocabulary = [w[0] for w in nltk.FreqDist(allWords).most_common(3000)]\n",
    "\n",
    "def docFeatures(document):\n",
    "    docWords = set(document)\n",
    "    features = {}\n",
    "    for word in vocabulary:\n",
    "        features['contains({})'.format(word)] = (word in docWords)\n",
    "    return features\n",
    "\n",
    "# creo il set di feature contenente l'associazione di ogni gruppo di token con la propria categoria\n",
    "feature_sets = [(docFeatures(d), c) for (d,c) in docs]\n",
    "\n",
    "# divido il feature_set in train_set e test_set a seconda del rapporto percentuale scelto\n",
    "train_set = feature_sets[:train_set_size]\n",
    "test_set = feature_sets[train_set_size:]"
   ]
  },
  {
   "cell_type": "markdown",
   "metadata": {},
   "source": [
    "Controllo le dimensioni di **train_set** e **test_set**:"
   ]
  },
  {
   "cell_type": "code",
   "execution_count": 18,
   "metadata": {},
   "outputs": [
    {
     "name": "stdout",
     "output_type": "stream",
     "text": [
      "Dimensione totale del dataset: 28509 (100%)\n",
      "Dimensione train set: 22800 (80%)\n",
      "Dimensione test set: 5709 (20%)\n"
     ]
    }
   ],
   "source": [
    "print('Dimensione totale del dataset:', total_size, f'({train_set_percentage+test_set_percentage}%)')\n",
    "print('Dimensione train set:', len(train_set), f'({train_set_percentage}%)')\n",
    "print('Dimensione test set:', len(test_set), f'({test_set_percentage}%)')"
   ]
  },
  {
   "attachments": {},
   "cell_type": "markdown",
   "metadata": {},
   "source": [
    "## | Training\n",
    "**NLTK** - *Naive Bayes*"
   ]
  },
  {
   "cell_type": "code",
   "execution_count": 19,
   "metadata": {},
   "outputs": [],
   "source": [
    "classifier = nltk.NaiveBayesClassifier.train(train_set)"
   ]
  },
  {
   "attachments": {},
   "cell_type": "markdown",
   "metadata": {},
   "source": [
    "## | Testing\n",
    "**NLTK** - *Naive Bayes*"
   ]
  },
  {
   "cell_type": "code",
   "execution_count": 20,
   "metadata": {},
   "outputs": [
    {
     "name": "stdout",
     "output_type": "stream",
     "text": [
      "Accuratezza: ~88%\n"
     ]
    }
   ],
   "source": [
    "print('Accuratezza: ~' + str(int(nltk.classify.accuracy(classifier, test_set)*100)) + '%')"
   ]
  },
  {
   "attachments": {},
   "cell_type": "markdown",
   "metadata": {},
   "source": [
    "Il valore ottenuto rappresenta la percentuale di accuratezza calcolata testando il modello istruito sul **train_set** ed eseguito sul **test_set**.\n",
    "\n",
    "Visualizzo ora le 10 informazioni più utili che il modello ha imparato autonomamente:"
   ]
  },
  {
   "cell_type": "code",
   "execution_count": 21,
   "metadata": {},
   "outputs": [
    {
     "name": "stdout",
     "output_type": "stream",
     "text": [
      "Most Informative Features\n",
      "    contains(archaeolog) = True           histor : scienc =   1298.1 : 1.0\n",
      "        contains(travel) = True           travel : manufa =   1105.6 : 1.0\n",
      "         contains(print) = True           manufa : travel =   1080.6 : 1.0\n",
      "         contains(robot) = True           scienc : sports =    985.8 : 1.0\n",
      "            contains(3d) = True           manufa : travel =    788.4 : 1.0\n",
      "        contains(delici) = True             food : nature =    760.2 : 1.0\n",
      "       contains(ancient) = True           histor : food   =    659.6 : 1.0\n",
      "          contains(food) = True             food : sports =    653.5 : 1.0\n",
      "     contains(deadliest) = True           advent : travel =    549.4 : 1.0\n",
      " contains(archaeologist) = True           histor : nature =    424.0 : 1.0\n"
     ]
    }
   ],
   "source": [
    "classifier.show_most_informative_features(10)"
   ]
  },
  {
   "cell_type": "code",
   "execution_count": 22,
   "metadata": {},
   "outputs": [
    {
     "data": {
      "image/png": "[encoded data removed]",
      "text/plain": [
       "<Figure size 1080x360 with 1 Axes>"
      ]
     },
     "metadata": {
      "needs_background": "light"
     },
     "output_type": "display_data"
    }
   ],
   "source": [
    "d = {'3d':1151, 'archaeolog':1148, 'food':941, 'delici':668, 'print':640,  'ancient':560, 'sport':485, 'deadliest':478, 'robot':399, 'archaeologist':362}\n",
    "plt.figure(figsize=(15,5))\n",
    "plt.bar(d.keys(), d.values(), color = 'darkgrey')\n",
    "plt.xlabel('Categoria')\n",
    "plt.ylabel('Numero di video')\n",
    "plt.xticks(rotation=15)\n",
    "plt.show();"
   ]
  },
  {
   "attachments": {},
   "cell_type": "markdown",
   "metadata": {},
   "source": [
    "## | Raccolta dei risultati\n",
    "**NLTK** - *Naive Bayes*"
   ]
  },
  {
   "attachments": {},
   "cell_type": "markdown",
   "metadata": {},
   "source": [
    "Di seguito una tabella contenente le percentuali di accuratezza a seconda delle diverse combinazioni di training_set/test_set testate:\n",
    "\n",
    "|train set size (%)|test set size (%)|accuracy|\n",
    "|:-:|:-:|:-:|\n",
    "|14250 (50%)|14259 (50%)|~88%|\n",
    "|17100 (60%)|11409 (40%)|~88%|\n",
    "|19950 (70%)|8559 (30%)|~88%|\n",
    "|22800 (80%)|5709 (20%)|~89%|\n",
    "|25650 (90%)|2859 (10%)|~89%|"
   ]
  },
  {
   "attachments": {},
   "cell_type": "markdown",
   "metadata": {},
   "source": [
    "---"
   ]
  },
  {
   "attachments": {},
   "cell_type": "markdown",
   "metadata": {},
   "source": [
    "# 10 - **SKLearn** - *Naive Bayes*"
   ]
  },
  {
   "attachments": {},
   "cell_type": "markdown",
   "metadata": {},
   "source": [
    "## | Creazione train set e test set\n",
    "**SKLearn** - *Naive Bayes*"
   ]
  },
  {
   "attachments": {},
   "cell_type": "markdown",
   "metadata": {},
   "source": [
    "La libreria *SKLearn* necessita degli stessi dati ma in un formato diverso.\n",
    "\n",
    "A differenza di *NLTK* che richiedeva una lista di liste di token, *SKLearn* richiede una lista di stringhe, in cui ogni stringa contiene tutti i token.\n",
    "\n",
    "Procedo con il riformattare i dati nel formato richiesto:"
   ]
  },
  {
   "cell_type": "code",
   "execution_count": 23,
   "metadata": {},
   "outputs": [],
   "source": [
    "categories = ['travel', 'science and technology', 'food', 'manufacturing', 'history', 'art and music', 'nature', 'sports', 'adventure']\n",
    "\n",
    "old_x = [i for i in yt['Tokens'].to_list()]\n",
    "\n",
    "x = ['' for _ in old_x]\n",
    "\n",
    "w = 0\n",
    "for i in old_x:\n",
    "    for j in i:\n",
    "        x[w] += j + ' '\n",
    "    w+=1\n",
    "    \n",
    "y = [None for i in range(28509)]\n",
    "\n",
    "j = 0\n",
    "for i in yt['Category'].to_list():\n",
    "    if i == 'travel':\n",
    "        y[j] = 0\n",
    "    if i == 'science and technology':\n",
    "        y[j] = 1\n",
    "    if i == 'food':\n",
    "        y[j] = 2\n",
    "    if i == 'manufacturing':\n",
    "        y[j] = 3\n",
    "    if i == 'history':\n",
    "        y[j] = 4\n",
    "    if i == 'art and music':\n",
    "        y[j] = 5\n",
    "    if i == 'nature':\n",
    "        y[j] = 6\n",
    "    if i == 'sports':\n",
    "        y[j] = 7\n",
    "    if i == 'adventure':\n",
    "        y[j] = 8\n",
    "    j+=1"
   ]
  },
  {
   "attachments": {},
   "cell_type": "markdown",
   "metadata": {},
   "source": [
    "Ricalcolo i le dimensioni del *train_set* e del *test_set*:"
   ]
  },
  {
   "cell_type": "code",
   "execution_count": 24,
   "metadata": {},
   "outputs": [],
   "source": [
    "test_set_percentage = 100-train_set_percentage\n",
    "\n",
    "total_size = len(x)\n",
    "\n",
    "train_set_size = total_size//100*train_set_percentage"
   ]
  },
  {
   "attachments": {},
   "cell_type": "markdown",
   "metadata": {},
   "source": [
    "Effettuo lo shuffle dei documenti, per poi dividere il dataset in *train_set* e *test_set*:"
   ]
  },
  {
   "cell_type": "code",
   "execution_count": 25,
   "metadata": {},
   "outputs": [],
   "source": [
    "#suffle dei documenti\n",
    "temp = list(zip(x, y))\n",
    "\n",
    "random.shuffle(temp)\n",
    "\n",
    "x, y = zip(*temp)\n",
    "x, y = list(x), list(y)\n",
    "\n",
    "#divido il dataset in train set e test set\n",
    "train_s = x[:train_set_size]\n",
    "test_s = x[train_set_size:]\n",
    "\n",
    "train_t = y[:train_set_size]\n",
    "test_t = y[train_set_size:]"
   ]
  },
  {
   "attachments": {},
   "cell_type": "markdown",
   "metadata": {},
   "source": [
    "Controllo le dimensioni di **train_set** e **test_set**:"
   ]
  },
  {
   "cell_type": "code",
   "execution_count": 26,
   "metadata": {},
   "outputs": [
    {
     "name": "stdout",
     "output_type": "stream",
     "text": [
      "Dimensione totale del dataset: 28509 (100%)\n",
      "Dimensione train set: 22800 (80)%\n",
      "Dimensione test set: 5709 (20)%\n"
     ]
    }
   ],
   "source": [
    "print('Dimensione totale del dataset:', total_size, f'({train_set_percentage+test_set_percentage}%)')\n",
    "print('Dimensione train set:', len(train_s), f'({train_set_percentage})%')\n",
    "print('Dimensione test set:', len(test_s), f'({test_set_percentage})%')"
   ]
  },
  {
   "attachments": {},
   "cell_type": "markdown",
   "metadata": {},
   "source": [
    "## | Training\n",
    "**SKLearn** - *Naive Bayes*"
   ]
  },
  {
   "attachments": {},
   "cell_type": "markdown",
   "metadata": {},
   "source": [
    "Costruzione della pipeline (utilizzando *Naive Bayes*):"
   ]
  },
  {
   "cell_type": "code",
   "execution_count": 27,
   "metadata": {},
   "outputs": [],
   "source": [
    "text_clf = Pipeline([('vect', CountVectorizer()), ('tfidf', TfidfTransformer()), ('clf', MultinomialNB()),])"
   ]
  },
  {
   "attachments": {},
   "cell_type": "markdown",
   "metadata": {},
   "source": [
    "Fase di training:"
   ]
  },
  {
   "cell_type": "code",
   "execution_count": 28,
   "metadata": {},
   "outputs": [
    {
     "data": {
      "text/html": [
       "<style>#sk-container-id-1 {color: black;background-color: white;}#sk-container-id-1 pre{padding: 0;}#sk-container-id-1 div.sk-toggleable {background-color: white;}#sk-container-id-1 label.sk-toggleable__label {cursor: pointer;display: block;width: 100%;margin-bottom: 0;padding: 0.3em;box-sizing: border-box;text-align: center;}#sk-container-id-1 label.sk-toggleable__label-arrow:before {content: \"▸\";float: left;margin-right: 0.25em;color: #696969;}#sk-container-id-1 label.sk-toggleable__label-arrow:hover:before {color: black;}#sk-container-id-1 div.sk-estimator:hover label.sk-toggleable__label-arrow:before {color: black;}#sk-container-id-1 div.sk-toggleable__content {max-height: 0;max-width: 0;overflow: hidden;text-align: left;background-color: #f0f8ff;}#sk-container-id-1 div.sk-toggleable__content pre {margin: 0.2em;color: black;border-radius: 0.25em;background-color: #f0f8ff;}#sk-container-id-1 input.sk-toggleable__control:checked~div.sk-toggleable__content {max-height: 200px;max-width: 100%;overflow: auto;}#sk-container-id-1 input.sk-toggleable__control:checked~label.sk-toggleable__label-arrow:before {content: \"▾\";}#sk-container-id-1 div.sk-estimator input.sk-toggleable__control:checked~label.sk-toggleable__label {background-color: #d4ebff;}#sk-container-id-1 div.sk-label input.sk-toggleable__control:checked~label.sk-toggleable__label {background-color: #d4ebff;}#sk-container-id-1 input.sk-hidden--visually {border: 0;clip: rect(1px 1px 1px 1px);clip: rect(1px, 1px, 1px, 1px);height: 1px;margin: -1px;overflow: hidden;padding: 0;position: absolute;width: 1px;}#sk-container-id-1 div.sk-estimator {font-family: monospace;background-color: #f0f8ff;border: 1px dotted black;border-radius: 0.25em;box-sizing: border-box;margin-bottom: 0.5em;}#sk-container-id-1 div.sk-estimator:hover {background-color: #d4ebff;}#sk-container-id-1 div.sk-parallel-item::after {content: \"\";width: 100%;border-bottom: 1px solid gray;flex-grow: 1;}#sk-container-id-1 div.sk-label:hover label.sk-toggleable__label {background-color: #d4ebff;}#sk-container-id-1 div.sk-serial::before {content: \"\";position: absolute;border-left: 1px solid gray;box-sizing: border-box;top: 0;bottom: 0;left: 50%;z-index: 0;}#sk-container-id-1 div.sk-serial {display: flex;flex-direction: column;align-items: center;background-color: white;padding-right: 0.2em;padding-left: 0.2em;position: relative;}#sk-container-id-1 div.sk-item {position: relative;z-index: 1;}#sk-container-id-1 div.sk-parallel {display: flex;align-items: stretch;justify-content: center;background-color: white;position: relative;}#sk-container-id-1 div.sk-item::before, #sk-container-id-1 div.sk-parallel-item::before {content: \"\";position: absolute;border-left: 1px solid gray;box-sizing: border-box;top: 0;bottom: 0;left: 50%;z-index: -1;}#sk-container-id-1 div.sk-parallel-item {display: flex;flex-direction: column;z-index: 1;position: relative;background-color: white;}#sk-container-id-1 div.sk-parallel-item:first-child::after {align-self: flex-end;width: 50%;}#sk-container-id-1 div.sk-parallel-item:last-child::after {align-self: flex-start;width: 50%;}#sk-container-id-1 div.sk-parallel-item:only-child::after {width: 0;}#sk-container-id-1 div.sk-dashed-wrapped {border: 1px dashed gray;margin: 0 0.4em 0.5em 0.4em;box-sizing: border-box;padding-bottom: 0.4em;background-color: white;}#sk-container-id-1 div.sk-label label {font-family: monospace;font-weight: bold;display: inline-block;line-height: 1.2em;}#sk-container-id-1 div.sk-label-container {text-align: center;}#sk-container-id-1 div.sk-container {/* jupyter's `normalize.less` sets `[hidden] { display: none; }` but bootstrap.min.css set `[hidden] { display: none !important; }` so we also need the `!important` here to be able to override the default hidden behavior on the sphinx rendered scikit-learn.org. See: https://github.com/scikit-learn/scikit-learn/issues/21755 */display: inline-block !important;position: relative;}#sk-container-id-1 div.sk-text-repr-fallback {display: none;}</style><div id=\"sk-container-id-1\" class=\"sk-top-container\"><div class=\"sk-text-repr-fallback\"><pre>Pipeline(steps=[(&#x27;vect&#x27;, CountVectorizer()), (&#x27;tfidf&#x27;, TfidfTransformer()),\n",
       "                (&#x27;clf&#x27;, MultinomialNB())])</pre><b>In a Jupyter environment, please rerun this cell to show the HTML representation or trust the notebook. <br />On GitHub, the HTML representation is unable to render, please try loading this page with nbviewer.org.</b></div><div class=\"sk-container\" hidden><div class=\"sk-item sk-dashed-wrapped\"><div class=\"sk-label-container\"><div class=\"sk-label sk-toggleable\"><input class=\"sk-toggleable__control sk-hidden--visually\" id=\"sk-estimator-id-1\" type=\"checkbox\" ><label for=\"sk-estimator-id-1\" class=\"sk-toggleable__label sk-toggleable__label-arrow\">Pipeline</label><div class=\"sk-toggleable__content\"><pre>Pipeline(steps=[(&#x27;vect&#x27;, CountVectorizer()), (&#x27;tfidf&#x27;, TfidfTransformer()),\n",
       "                (&#x27;clf&#x27;, MultinomialNB())])</pre></div></div></div><div class=\"sk-serial\"><div class=\"sk-item\"><div class=\"sk-estimator sk-toggleable\"><input class=\"sk-toggleable__control sk-hidden--visually\" id=\"sk-estimator-id-2\" type=\"checkbox\" ><label for=\"sk-estimator-id-2\" class=\"sk-toggleable__label sk-toggleable__label-arrow\">CountVectorizer</label><div class=\"sk-toggleable__content\"><pre>CountVectorizer()</pre></div></div></div><div class=\"sk-item\"><div class=\"sk-estimator sk-toggleable\"><input class=\"sk-toggleable__control sk-hidden--visually\" id=\"sk-estimator-id-3\" type=\"checkbox\" ><label for=\"sk-estimator-id-3\" class=\"sk-toggleable__label sk-toggleable__label-arrow\">TfidfTransformer</label><div class=\"sk-toggleable__content\"><pre>TfidfTransformer()</pre></div></div></div><div class=\"sk-item\"><div class=\"sk-estimator sk-toggleable\"><input class=\"sk-toggleable__control sk-hidden--visually\" id=\"sk-estimator-id-4\" type=\"checkbox\" ><label for=\"sk-estimator-id-4\" class=\"sk-toggleable__label sk-toggleable__label-arrow\">MultinomialNB</label><div class=\"sk-toggleable__content\"><pre>MultinomialNB()</pre></div></div></div></div></div></div></div>"
      ],
      "text/plain": [
       "Pipeline(steps=[('vect', CountVectorizer()), ('tfidf', TfidfTransformer()),\n",
       "                ('clf', MultinomialNB())])"
      ]
     },
     "execution_count": 28,
     "metadata": {},
     "output_type": "execute_result"
    }
   ],
   "source": [
    "text_clf.fit(train_s, train_t)"
   ]
  },
  {
   "attachments": {},
   "cell_type": "markdown",
   "metadata": {},
   "source": [
    "## | Testing\n",
    "**SKLearn** - *Naive Bayes*"
   ]
  },
  {
   "attachments": {},
   "cell_type": "markdown",
   "metadata": {},
   "source": [
    "Con l'uso della *crossing-validation* e del *grid-search* è possibile ottenere un incremento notevole dell'accuratezza:"
   ]
  },
  {
   "cell_type": "code",
   "execution_count": 29,
   "metadata": {},
   "outputs": [
    {
     "name": "stdout",
     "output_type": "stream",
     "text": [
      "                        precision    recall  f1-score   support\n",
      "\n",
      "                travel       0.81      0.85      0.83       774\n",
      "science and technology       0.89      0.92      0.90       793\n",
      "                  food       0.96      0.94      0.95       792\n",
      "         manufacturing       0.92      0.92      0.92       705\n",
      "               history       0.97      0.97      0.97       577\n",
      "         art and music       0.93      0.88      0.90       502\n",
      "                nature       0.88      0.81      0.84       499\n",
      "                sports       0.92      0.94      0.93       652\n",
      "             adventure       0.69      0.71      0.70       415\n",
      "\n",
      "              accuracy                           0.89      5709\n",
      "             macro avg       0.89      0.88      0.88      5709\n",
      "          weighted avg       0.89      0.89      0.89      5709\n",
      "\n",
      "Accuratezza: ~89%\n"
     ]
    }
   ],
   "source": [
    "# cross-validation\n",
    "cv = ShuffleSplit(n_splits=10, test_size=0.2, random_state=0)\n",
    "\n",
    "# grid-search\n",
    "parameters = {'vect__ngram_range': [(1, 1), (1, 2)], 'tfidf__use_idf': (True, False), 'clf__alpha': (1e-2, 1e-3),}\n",
    "gs_clf = GridSearchCV(text_clf, parameters, cv=cv, n_jobs=-1)\n",
    "\n",
    "# testing\n",
    "gs_clf = gs_clf.fit(train_s, train_t)\n",
    "predicted = gs_clf.predict(test_s)\n",
    "print(metrics.classification_report(test_t, predicted, target_names=categories))\n",
    "print('Accuratezza: ~' + str(int(metrics.accuracy_score(test_t, predicted)*100)) + '%')"
   ]
  },
  {
   "attachments": {},
   "cell_type": "markdown",
   "metadata": {},
   "source": [
    "Il valore ottenuto rappresenta la percentuale di accuratezza calcolata testando il modello istruito sul **train_set** ed eseguito sul **test_set**."
   ]
  },
  {
   "attachments": {},
   "cell_type": "markdown",
   "metadata": {},
   "source": [
    "## | Raccolta dei risultati\n",
    "**SKLearn** - *Naive Bayes*"
   ]
  },
  {
   "attachments": {},
   "cell_type": "markdown",
   "metadata": {},
   "source": [
    "Di seguito una tabella contenente le percentuali di accuratezza a seconda delle diverse combinazioni di training_set/test_set testate:\n",
    "\n",
    "|train set size (%)|test set size (%)|accuracy|\n",
    "|:-:|:-:|:-:|\n",
    "|14250 (50%)|14259 (50%)|~88%|\n",
    "|17100 (60%)|11409 (40%)|~89%|\n",
    "|19950 (70%)|8559 (30%)|~89%|\n",
    "|22800 (80%)|5709 (20%)|~90%|\n",
    "|25650 (90%)|2859 (10%)|~90%|"
   ]
  },
  {
   "attachments": {},
   "cell_type": "markdown",
   "metadata": {},
   "source": [
    "---"
   ]
  },
  {
   "attachments": {},
   "cell_type": "markdown",
   "metadata": {},
   "source": [
    "# 11 - **SKLearn** - *SGD Classifier*"
   ]
  },
  {
   "attachments": {},
   "cell_type": "markdown",
   "metadata": {},
   "source": [
    "## | Creazione train set e test set\n",
    "**SKLearn** - *SGD Clcassifier*"
   ]
  },
  {
   "attachments": {},
   "cell_type": "markdown",
   "metadata": {},
   "source": [
    "La libreria *SKLearn* necessita degli stessi dati ma in un formato diverso.\n",
    "\n",
    "A differenza di *NLTK* che richiedeva una lista di liste di token, *SKLearn* richiede una lista di stringhe, in cui ogni stringa contiene tutti i token.\n",
    "\n",
    "Procedo con il riformattare i dati nel formato richiesto:"
   ]
  },
  {
   "cell_type": "code",
   "execution_count": 30,
   "metadata": {},
   "outputs": [],
   "source": [
    "categories = ['travel', 'science and technology', 'food', 'manufacturing', 'history', 'art and music', 'nature', 'sports', 'adventure']\n",
    "\n",
    "old_x = [i for i in yt['Tokens'].to_list()]\n",
    "\n",
    "x = ['' for _ in old_x]\n",
    "\n",
    "w = 0\n",
    "for i in old_x:\n",
    "    for j in i:\n",
    "        x[w] += j + ' '\n",
    "    w+=1\n",
    "    \n",
    "y = [None for i in range(28509)]\n",
    "\n",
    "j = 0\n",
    "for i in yt['Category'].to_list():\n",
    "    if i == 'travel':\n",
    "        y[j] = 0\n",
    "    if i == 'science and technology':\n",
    "        y[j] = 1\n",
    "    if i == 'food':\n",
    "        y[j] = 2\n",
    "    if i == 'manufacturing':\n",
    "        y[j] = 3\n",
    "    if i == 'history':\n",
    "        y[j] = 4\n",
    "    if i == 'art and music':\n",
    "        y[j] = 5\n",
    "    if i == 'nature':\n",
    "        y[j] = 6\n",
    "    if i == 'sports':\n",
    "        y[j] = 7\n",
    "    if i == 'adventure':\n",
    "        y[j] = 8\n",
    "    j+=1"
   ]
  },
  {
   "attachments": {},
   "cell_type": "markdown",
   "metadata": {},
   "source": [
    "Ricalcolo i le dimensioni del *train_set* e del *test_set*:"
   ]
  },
  {
   "cell_type": "code",
   "execution_count": 31,
   "metadata": {},
   "outputs": [],
   "source": [
    "test_set_percentage = 100-train_set_percentage\n",
    "\n",
    "total_size = len(x)\n",
    "\n",
    "train_set_size = total_size//100*train_set_percentage"
   ]
  },
  {
   "attachments": {},
   "cell_type": "markdown",
   "metadata": {},
   "source": [
    "Effettuo lo shuffle dei documenti, per poi dividere il dataset in *train_set* e *test_set*:"
   ]
  },
  {
   "cell_type": "code",
   "execution_count": 32,
   "metadata": {},
   "outputs": [],
   "source": [
    "#suffle dei documenti\n",
    "temp = list(zip(x, y))\n",
    "\n",
    "random.shuffle(temp)\n",
    "\n",
    "x, y = zip(*temp)\n",
    "x, y = list(x), list(y)\n",
    "\n",
    "#divido il dataset in train set e test set\n",
    "train_s = x[:train_set_size]\n",
    "test_s = x[train_set_size:]\n",
    "\n",
    "train_t = y[:train_set_size]\n",
    "test_t = y[train_set_size:]"
   ]
  },
  {
   "attachments": {},
   "cell_type": "markdown",
   "metadata": {},
   "source": [
    "Controllo le dimensioni di **train_set** e **test_set**:"
   ]
  },
  {
   "cell_type": "code",
   "execution_count": 33,
   "metadata": {},
   "outputs": [
    {
     "name": "stdout",
     "output_type": "stream",
     "text": [
      "Dimensione totale del dataset: 28509 (100%)\n",
      "Dimensione train set: 22800 (80)%\n",
      "Dimensione test set: 5709 (20)%\n"
     ]
    }
   ],
   "source": [
    "print('Dimensione totale del dataset:', total_size, f'({train_set_percentage+test_set_percentage}%)')\n",
    "print('Dimensione train set:', len(train_s), f'({train_set_percentage})%')\n",
    "print('Dimensione test set:', len(test_s), f'({test_set_percentage})%')"
   ]
  },
  {
   "attachments": {},
   "cell_type": "markdown",
   "metadata": {},
   "source": [
    "## | Training\n",
    "**SKLearn** - *SGD Classifier*"
   ]
  },
  {
   "attachments": {},
   "cell_type": "markdown",
   "metadata": {},
   "source": [
    "Costruzione della pipeline (utilizzando *SGD Classifier*):"
   ]
  },
  {
   "cell_type": "code",
   "execution_count": 34,
   "metadata": {},
   "outputs": [],
   "source": [
    "text_clf = Pipeline([('vect', CountVectorizer()), ('tfidf', TfidfTransformer()), ('clf', SGDClassifier(loss='hinge', penalty='l2', alpha=1e-3, random_state=42, max_iter=5, tol=None)),])\n"
   ]
  },
  {
   "attachments": {},
   "cell_type": "markdown",
   "metadata": {},
   "source": [
    "Fase di training:"
   ]
  },
  {
   "cell_type": "code",
   "execution_count": 35,
   "metadata": {},
   "outputs": [
    {
     "data": {
      "text/html": [
       "<style>#sk-container-id-2 {color: black;background-color: white;}#sk-container-id-2 pre{padding: 0;}#sk-container-id-2 div.sk-toggleable {background-color: white;}#sk-container-id-2 label.sk-toggleable__label {cursor: pointer;display: block;width: 100%;margin-bottom: 0;padding: 0.3em;box-sizing: border-box;text-align: center;}#sk-container-id-2 label.sk-toggleable__label-arrow:before {content: \"▸\";float: left;margin-right: 0.25em;color: #696969;}#sk-container-id-2 label.sk-toggleable__label-arrow:hover:before {color: black;}#sk-container-id-2 div.sk-estimator:hover label.sk-toggleable__label-arrow:before {color: black;}#sk-container-id-2 div.sk-toggleable__content {max-height: 0;max-width: 0;overflow: hidden;text-align: left;background-color: #f0f8ff;}#sk-container-id-2 div.sk-toggleable__content pre {margin: 0.2em;color: black;border-radius: 0.25em;background-color: #f0f8ff;}#sk-container-id-2 input.sk-toggleable__control:checked~div.sk-toggleable__content {max-height: 200px;max-width: 100%;overflow: auto;}#sk-container-id-2 input.sk-toggleable__control:checked~label.sk-toggleable__label-arrow:before {content: \"▾\";}#sk-container-id-2 div.sk-estimator input.sk-toggleable__control:checked~label.sk-toggleable__label {background-color: #d4ebff;}#sk-container-id-2 div.sk-label input.sk-toggleable__control:checked~label.sk-toggleable__label {background-color: #d4ebff;}#sk-container-id-2 input.sk-hidden--visually {border: 0;clip: rect(1px 1px 1px 1px);clip: rect(1px, 1px, 1px, 1px);height: 1px;margin: -1px;overflow: hidden;padding: 0;position: absolute;width: 1px;}#sk-container-id-2 div.sk-estimator {font-family: monospace;background-color: #f0f8ff;border: 1px dotted black;border-radius: 0.25em;box-sizing: border-box;margin-bottom: 0.5em;}#sk-container-id-2 div.sk-estimator:hover {background-color: #d4ebff;}#sk-container-id-2 div.sk-parallel-item::after {content: \"\";width: 100%;border-bottom: 1px solid gray;flex-grow: 1;}#sk-container-id-2 div.sk-label:hover label.sk-toggleable__label {background-color: #d4ebff;}#sk-container-id-2 div.sk-serial::before {content: \"\";position: absolute;border-left: 1px solid gray;box-sizing: border-box;top: 0;bottom: 0;left: 50%;z-index: 0;}#sk-container-id-2 div.sk-serial {display: flex;flex-direction: column;align-items: center;background-color: white;padding-right: 0.2em;padding-left: 0.2em;position: relative;}#sk-container-id-2 div.sk-item {position: relative;z-index: 1;}#sk-container-id-2 div.sk-parallel {display: flex;align-items: stretch;justify-content: center;background-color: white;position: relative;}#sk-container-id-2 div.sk-item::before, #sk-container-id-2 div.sk-parallel-item::before {content: \"\";position: absolute;border-left: 1px solid gray;box-sizing: border-box;top: 0;bottom: 0;left: 50%;z-index: -1;}#sk-container-id-2 div.sk-parallel-item {display: flex;flex-direction: column;z-index: 1;position: relative;background-color: white;}#sk-container-id-2 div.sk-parallel-item:first-child::after {align-self: flex-end;width: 50%;}#sk-container-id-2 div.sk-parallel-item:last-child::after {align-self: flex-start;width: 50%;}#sk-container-id-2 div.sk-parallel-item:only-child::after {width: 0;}#sk-container-id-2 div.sk-dashed-wrapped {border: 1px dashed gray;margin: 0 0.4em 0.5em 0.4em;box-sizing: border-box;padding-bottom: 0.4em;background-color: white;}#sk-container-id-2 div.sk-label label {font-family: monospace;font-weight: bold;display: inline-block;line-height: 1.2em;}#sk-container-id-2 div.sk-label-container {text-align: center;}#sk-container-id-2 div.sk-container {/* jupyter's `normalize.less` sets `[hidden] { display: none; }` but bootstrap.min.css set `[hidden] { display: none !important; }` so we also need the `!important` here to be able to override the default hidden behavior on the sphinx rendered scikit-learn.org. See: https://github.com/scikit-learn/scikit-learn/issues/21755 */display: inline-block !important;position: relative;}#sk-container-id-2 div.sk-text-repr-fallback {display: none;}</style><div id=\"sk-container-id-2\" class=\"sk-top-container\"><div class=\"sk-text-repr-fallback\"><pre>Pipeline(steps=[(&#x27;vect&#x27;, CountVectorizer()), (&#x27;tfidf&#x27;, TfidfTransformer()),\n",
       "                (&#x27;clf&#x27;,\n",
       "                 SGDClassifier(alpha=0.001, max_iter=5, random_state=42,\n",
       "                               tol=None))])</pre><b>In a Jupyter environment, please rerun this cell to show the HTML representation or trust the notebook. <br />On GitHub, the HTML representation is unable to render, please try loading this page with nbviewer.org.</b></div><div class=\"sk-container\" hidden><div class=\"sk-item sk-dashed-wrapped\"><div class=\"sk-label-container\"><div class=\"sk-label sk-toggleable\"><input class=\"sk-toggleable__control sk-hidden--visually\" id=\"sk-estimator-id-5\" type=\"checkbox\" ><label for=\"sk-estimator-id-5\" class=\"sk-toggleable__label sk-toggleable__label-arrow\">Pipeline</label><div class=\"sk-toggleable__content\"><pre>Pipeline(steps=[(&#x27;vect&#x27;, CountVectorizer()), (&#x27;tfidf&#x27;, TfidfTransformer()),\n",
       "                (&#x27;clf&#x27;,\n",
       "                 SGDClassifier(alpha=0.001, max_iter=5, random_state=42,\n",
       "                               tol=None))])</pre></div></div></div><div class=\"sk-serial\"><div class=\"sk-item\"><div class=\"sk-estimator sk-toggleable\"><input class=\"sk-toggleable__control sk-hidden--visually\" id=\"sk-estimator-id-6\" type=\"checkbox\" ><label for=\"sk-estimator-id-6\" class=\"sk-toggleable__label sk-toggleable__label-arrow\">CountVectorizer</label><div class=\"sk-toggleable__content\"><pre>CountVectorizer()</pre></div></div></div><div class=\"sk-item\"><div class=\"sk-estimator sk-toggleable\"><input class=\"sk-toggleable__control sk-hidden--visually\" id=\"sk-estimator-id-7\" type=\"checkbox\" ><label for=\"sk-estimator-id-7\" class=\"sk-toggleable__label sk-toggleable__label-arrow\">TfidfTransformer</label><div class=\"sk-toggleable__content\"><pre>TfidfTransformer()</pre></div></div></div><div class=\"sk-item\"><div class=\"sk-estimator sk-toggleable\"><input class=\"sk-toggleable__control sk-hidden--visually\" id=\"sk-estimator-id-8\" type=\"checkbox\" ><label for=\"sk-estimator-id-8\" class=\"sk-toggleable__label sk-toggleable__label-arrow\">SGDClassifier</label><div class=\"sk-toggleable__content\"><pre>SGDClassifier(alpha=0.001, max_iter=5, random_state=42, tol=None)</pre></div></div></div></div></div></div></div>"
      ],
      "text/plain": [
       "Pipeline(steps=[('vect', CountVectorizer()), ('tfidf', TfidfTransformer()),\n",
       "                ('clf',\n",
       "                 SGDClassifier(alpha=0.001, max_iter=5, random_state=42,\n",
       "                               tol=None))])"
      ]
     },
     "execution_count": 35,
     "metadata": {},
     "output_type": "execute_result"
    }
   ],
   "source": [
    "text_clf.fit(train_s, train_t)"
   ]
  },
  {
   "attachments": {},
   "cell_type": "markdown",
   "metadata": {},
   "source": [
    "## | Testing\n",
    "**SKLearn** - *SGD Classifier*"
   ]
  },
  {
   "attachments": {},
   "cell_type": "markdown",
   "metadata": {},
   "source": [
    "Con l'uso della *crossing-validation* e del *grid-search* è possibile ottenere un incremento notevole dell'accuratezza:"
   ]
  },
  {
   "cell_type": "code",
   "execution_count": 36,
   "metadata": {},
   "outputs": [
    {
     "name": "stdout",
     "output_type": "stream",
     "text": [
      "                        precision    recall  f1-score   support\n",
      "\n",
      "                travel       0.95      0.85      0.90       783\n",
      "science and technology       0.97      0.96      0.97       800\n",
      "                  food       0.96      0.98      0.97       786\n",
      "         manufacturing       0.99      0.96      0.97       700\n",
      "               history       0.97      0.99      0.98       542\n",
      "         art and music       0.95      0.96      0.96       498\n",
      "                nature       0.94      0.96      0.95       524\n",
      "                sports       0.97      0.99      0.98       647\n",
      "             adventure       0.78      0.89      0.83       429\n",
      "\n",
      "              accuracy                           0.95      5709\n",
      "             macro avg       0.94      0.95      0.95      5709\n",
      "          weighted avg       0.95      0.95      0.95      5709\n",
      "\n",
      "Accuratezza: ~94%\n"
     ]
    }
   ],
   "source": [
    "# cross-validation\n",
    "cv = ShuffleSplit(n_splits=10, test_size=0.2, random_state=0)\n",
    "\n",
    "# grid-search\n",
    "parameters = {'vect__ngram_range': [(1, 1), (1, 2)], 'tfidf__use_idf': (True, False), 'clf__alpha': (1e-2, 1e-3),}\n",
    "gs_clf = GridSearchCV(text_clf, parameters, cv=cv, n_jobs=-1)\n",
    "\n",
    "# testing\n",
    "gs_clf = gs_clf.fit(train_s, train_t)\n",
    "predicted = gs_clf.predict(test_s)\n",
    "print(metrics.classification_report(test_t, predicted, target_names=categories))\n",
    "print('Accuratezza: ~' + str(int(metrics.accuracy_score(test_t, predicted)*100)) + '%')"
   ]
  },
  {
   "attachments": {},
   "cell_type": "markdown",
   "metadata": {},
   "source": [
    "Il valore ottenuto rappresenta la percentuale di accuratezza calcolata testando il modello istruito sul **train_set** ed eseguito sul **test_set**."
   ]
  },
  {
   "attachments": {},
   "cell_type": "markdown",
   "metadata": {},
   "source": [
    "## | Raccolta dei risultati\n",
    "**SKLearn** - *SGD Classifier*"
   ]
  },
  {
   "attachments": {},
   "cell_type": "markdown",
   "metadata": {},
   "source": [
    "Di seguito una tabella contenente le percentuali di accuratezza a seconda delle diverse combinazioni di training_set/test_set testate:\n",
    "\n",
    "|train set size (%)|test set size (%)|accuracy|\n",
    "|:-:|:-:|:-:|\n",
    "|14250 (50%)|14259 (50%)|~95%|\n",
    "|17100 (60%)|11409 (40%)|~95%|\n",
    "|19950 (70%)|8559 (30%)|~95%|\n",
    "|22800 (80%)|5709 (20%)|~95%|\n",
    "|25650 (90%)|2859 (10%)|~95%|"
   ]
  },
  {
   "attachments": {},
   "cell_type": "markdown",
   "metadata": {},
   "source": [
    "---"
   ]
  },
  {
   "attachments": {},
   "cell_type": "markdown",
   "metadata": {},
   "source": [
    "# 12 - **Analisi conclusiva**"
   ]
  },
  {
   "attachments": {},
   "cell_type": "markdown",
   "metadata": {},
   "source": [
    "Le percentuali risultano stabili sia al variare della combinazione di training_set/test_set che all'aumentare delle run casuali.\n",
    "\n",
    "È possibile dare una spiegazione precisa a questo fenomeno:\n",
    "- il dataset è abbastanza grande da raccogliere sufficienti token per l'addestramento, e run multiple su diverse porzioni del dataset non aggiungono informazioni utili all'addestramento\n",
    "\n",
    "- poiché sono state effettuate operazioni di pulizia e correzione del dataset (tra cui lo stemming dei token), i diversi records avranno spesso molteplici token in comune\n",
    "\n",
    "- l'utilizzo della *cross-validation* e della *grid-search* hanno avuto un forte impatto sul risultato finale\n",
    "\n",
    "Si può tentare anche di dare una spiegazione inversa, ovvero perché il sistema sbaglia in alcuni casi:\n",
    "- determinati video presentano nella descrizione soltanto dei collegamenti url, che vengono scartati nella fase di pulizia del testo, quindi pur non influenzando negativamente nella fase di training, non danno informazioni utili alla classificazione nella fase di testing\n",
    "- discorso simile può essere fatto per i titoli, spesso click-bait, i quali non portano alcuna informazione utile alla classificazione del video stesso"
   ]
  },
  {
   "attachments": {},
   "cell_type": "markdown",
   "metadata": {},
   "source": [
    "Riprendo le tabelle delle percentuali di accuratezza ottenute dai tre metodi testati con diversi rapporti *train_set*/*test_set* nelle fasi di raccolta dati:"
   ]
  },
  {
   "attachments": {},
   "cell_type": "markdown",
   "metadata": {},
   "source": [
    "<b style=\"color:slateblue;\">NLTK - Naive Bayes</b>\n",
    "|train set size (%)|test set size (%)|accuracy|\n",
    "|:-:|:-:|:-:|\n",
    "|14250 (50%)|14259 (50%)|~88%|\n",
    "|17100 (60%)|11409 (40%)|~88%|\n",
    "|19950 (70%)|8559 (30%)|~88%|\n",
    "|22800 (80%)|5709 (20%)|~89%|\n",
    "|25650 (90%)|2859 (10%)|~89%|\n",
    "\n",
    "&nbsp;\n",
    "\n",
    "<b style=\"color:green;\">SKLearn - Naive Bayes</b>\n",
    "|train set size (%)|test set size (%)|accuracy|\n",
    "|:-:|:-:|:-:|\n",
    "|14250 (50%)|14259 (50%)|~88%|\n",
    "|17100 (60%)|11409 (40%)|~89%|\n",
    "|19950 (70%)|8559 (30%)|~89%|\n",
    "|22800 (80%)|5709 (20%)|~90%|\n",
    "|25650 (90%)|2859 (10%)|~90%|\n",
    "\n",
    "&nbsp;\n",
    "\n",
    "<b style=\"color:tomato;\">SKLearn - SGD Classifier</b>\n",
    "|train set size (%)|test set size (%)|accuracy|\n",
    "|:-:|:-:|:-:|\n",
    "|14250 (50%)|14259 (50%)|~95%|\n",
    "|17100 (60%)|11409 (40%)|~95%|\n",
    "|19950 (70%)|8559 (30%)|~95%|\n",
    "|22800 (80%)|5709 (20%)|~95%|\n",
    "|25650 (90%)|2859 (10%)|~95%|"
   ]
  },
  {
   "attachments": {},
   "cell_type": "markdown",
   "metadata": {},
   "source": [
    "Sovrapponendo i valori di accuratezza ottenuti, è possibile avere una visione più chiara del risultato:"
   ]
  },
  {
   "cell_type": "code",
   "execution_count": 37,
   "metadata": {},
   "outputs": [
    {
     "data": {
      "image/png": "[encoded data removed]",
      "text/plain": [
       "<Figure size 864x360 with 1 Axes>"
      ]
     },
     "metadata": {
      "needs_background": "light"
     },
     "output_type": "display_data"
    }
   ],
   "source": [
    "#raccolgo i valori\n",
    "nltk_NB = {'50%':88, '60%':88, '70%':88, '80%':89, '90%':89}\n",
    "sklearn_NB = {'50%':88, '60%':89, '70%':89, '80%':90, '90%':90}\n",
    "sk_learn_SGDC = {'50%':95, '60%':95, '70%':95, '80%':95, '90%':95}\n",
    "\n",
    "#plot\n",
    "plt.figure(figsize=(12,5))\n",
    "\n",
    "plt.errorbar(nltk_NB.keys(), nltk_NB.values(), color = 'slateblue')\n",
    "plt.errorbar(sklearn_NB.keys(), sklearn_NB.values(), color = 'green')\n",
    "plt.errorbar(sk_learn_SGDC.keys(), sk_learn_SGDC.values(), color = 'tomato')\n",
    "\n",
    "plt.legend(['NLTK - Naive Bayes', 'SKLearn - Naive Bayes', 'SKLearn - SGDC'])\n",
    "\n",
    "plt.xlabel('Rapporto train_set/test_set')\n",
    "plt.ylabel('Percentuale di accuratezza')\n",
    "plt.show();"
   ]
  },
  {
   "attachments": {},
   "cell_type": "markdown",
   "metadata": {},
   "source": [
    "- Con il metodo *Naive Bayes*, sia per l'implementazione in **NLTK** che per l'implementazione in **SKLearn**, si ha una percentuale di accuratezza pari a **~89%**. Nonostante questo, **SKLearn** risulta molto più efficiente nell'esecuzione delle fasi di training e testing\n",
    "- Con il metodo *SGD Classifier* implementato nella libreria **SKLearn**, si ha una percentuale di accuratezza pari a **~95%**"
   ]
  },
  {
   "attachments": {},
   "cell_type": "markdown",
   "metadata": {},
   "source": [
    "<h3>Per questo problema si ottengono i risultati migliori utilizzando il metodo <i style=\"color:tomato;\">SGD Classifier</i> implementato nella libreria <b style=\"color:tomato;\">SKLearn</b>.\n",
    "\n",
    "Con esso è possibile ottenere una percentuale di accuratezza di classificazione dei video pari a <b style=\"color:darkorange;\">~95%</b>, valore notevolmente alto dato l'alto numero di classi totali (9) e la poca specificità dei titoli e delle descrizioni dei video su Youtube.\n",
    "\n",
    "Questo è reso possibile anche grazie alle fasi di pulizia del testo e di stemming delle parole, ma anche grazie alle tecniche di *cross-validation* e *grid-search*.</h3>\n"
   ]
  }
 ],
 "metadata": {
  "kernelspec": {
   "display_name": "Python 3.10.7 64-bit",
   "language": "python",
   "name": "python3"
  },
  "language_info": {
   "codemirror_mode": {
    "name": "ipython",
    "version": 3
   },
   "file_extension": ".py",
   "mimetype": "text/x-python",
   "name": "python",
   "nbconvert_exporter": "python",
   "pygments_lexer": "ipython3",
   "version": "3.10.7 (main, Nov 24 2022, 19:45:47) [GCC 12.2.0]"
  },
  "orig_nbformat": 4,
  "vscode": {
   "interpreter": {
    "hash": "916dbcbb3f70747c44a77c7bcd40155683ae19c65e1c03b4aa3499c5328201f1"
   }
  }
 },
 "nbformat": 4,
 "nbformat_minor": 2
}
