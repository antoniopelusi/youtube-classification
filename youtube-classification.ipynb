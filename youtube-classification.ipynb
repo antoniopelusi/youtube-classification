{
 "cells": [
  {
   "attachments": {},
   "cell_type": "markdown",
   "metadata": {},
   "source": [
    "<center>\n",
    "<h1><b>Categorizzazione dei video di Youtube</b></h1>\n",
    "<h3><i>Analisi del testo - classificazione multiclasse</i></h3>\n",
    "<p>Antonio Pelusi</p>\n",
    "<p>Matricola: 182267</p>\n",
    "<p>257241@studenti.unimore.it</p>\n",
    "</center>"
   ]
  },
  {
   "attachments": {},
   "cell_type": "markdown",
   "metadata": {},
   "source": [
    "# Indice"
   ]
  },
  {
   "attachments": {},
   "cell_type": "markdown",
   "metadata": {},
   "source": [
    "1. **[Obiettivo](#1---obiettivo)**\n",
    "\n",
    "2. **[Progettazione](#2---progettazione)**\n",
    "\n",
    "3. **[Inizializzazione](#3---inizializzazione)**\n",
    "\n",
    "4. **[Raccolta dati](#4---raccolta-dei-dati)**\n",
    "\n",
    "5. **[Pulizia del dataset](#5---pulizia-del-dataset)**\n",
    "\n",
    "6. **[Pulizia del testo](#6---pulizia-del-testo)**\n",
    "\n",
    "7. **[Tokenizzazione](#7---tokenizzazione)**\n",
    "\n",
    "8. **[Analisi esplorativa](#8---analisi-esplorativa)**\n",
    "\n",
    "9. **[Train set e Test set](#9---train-set-e-test-set)**\n",
    "\n",
    "10. **[Training](#10---training)**\n",
    "\n",
    "11. **[Test](#11---test)**\n",
    "\n",
    "12. **[Analisi dei risultati](#12---analisi-dei-risultati)**"
   ]
  },
  {
   "attachments": {},
   "cell_type": "markdown",
   "metadata": {},
   "source": [
    "# 1 - Obiettivo"
   ]
  },
  {
   "attachments": {},
   "cell_type": "markdown",
   "metadata": {},
   "source": [
    "L'obiettivo del seguente progetto è quello di sviluppare un modello di text mining capace di assegnare correttamente una categoria ad un video Youtube.\n",
    "\n",
    "Si tratta quindi di un problema di classificazione multi-classe."
   ]
  },
  {
   "attachments": {},
   "cell_type": "markdown",
   "metadata": {},
   "source": [
    "# 2 - Progettazione"
   ]
  },
  {
   "attachments": {},
   "cell_type": "markdown",
   "metadata": {},
   "source": [
    "Essendo un modello di text mining, le uniche risorse testuali che un video su Youtube possiede sono titolo e descrizione.\n",
    "\n",
    "Ogni video potrà essere classificato in una delle seguenti 9 categorie:\n",
    "- **travel**\n",
    "- **science and technology**\n",
    "- **food**\n",
    "- **manufacturing**\n",
    "- **history**\n",
    "- **art and music**\n",
    "- **nature**\n",
    "- **sports**\n",
    "- **adventure**\n",
    "\n",
    "L'intero processo sarà diviso nelle seguenti macro aree:\n",
    "- **Raccolta dei dati**: per questo progetto verrà utilizzato un dataset contenente ~30k records, ciascuno contenente le informazioni di un video di Youtube, tra cui titolo, descrizione e la categoria\n",
    "- **Pulizia del dataset**: consiste nella rimozione dei records che hanno qualche informazione mancante. infatti questi record avrebbero una influenza negativa nella fase di training, poiché potrebbero dare informazioni sbagliate\n",
    "- **Pulizia del testo**: questa fase applicherà alle informazioni grezze (titolo e descrizione) le seguenti modifiche:\n",
    "    - unione dei titoli e delle descrizioni (al fine di avere un'unica fonte di informazioni)\n",
    "    - Rimozione codice html, urls, caratteri speciali e stopwords\n",
    "    - Stemming del testo (processo di riduzione della forma flessa di una parola alla sua forma radice, detta *tema*)\n",
    "- **Tokenizzazione**: consiste nella divisione del testo grezzo in unità più piccole, detti *token*\n",
    "- **Analisi esplorativa**: in questa fase verrà studiato approssimativamente il dataset e la sua struttura. Verranno inoltre scelti i metodi che dovranno essere utilizzati nella fase di training, tenendo conto sia dell'obiettivo che del dataset\n",
    "- **Train set e Test set**: a questo punto il dataset verrà diviso in due parti: una parte verrà utilizzata per la fase di training, l'altra per la fase di test, in cui verrà calcolata l'accuratezza del modello\n",
    "- **Training**: in questa fase avverrà l'addestramento del modello con i dati del training set con il metodo scelto nella fase di analisi esplorativa\n",
    "- **Test**: a questo punto sarà possibile valutare l'accuratezza del modello, calcolando in percentuale quanti errori commette sul test set\n",
    "- **Analisi dei risultati**: con l'accuratezza ottenuta dalla fase di test, sarà possibile trarre delle conclusioni, valutando se i risultati soddisfano gli obiettivi previsti, o eventualmente considerare metodi alternativi di training o di pulizia del testo"
   ]
  },
  {
   "attachments": {},
   "cell_type": "markdown",
   "metadata": {},
   "source": [
    "# 3 - Inizializzazione"
   ]
  },
  {
   "cell_type": "markdown",
   "metadata": {},
   "source": [
    "Importazione librerie necessarie:"
   ]
  },
  {
   "cell_type": "code",
   "execution_count": 2,
   "metadata": {},
   "outputs": [],
   "source": [
    "import pandas as pd\n",
    "import missingno as msno\n",
    "import matplotlib.pyplot as plt\n",
    "import nltk\n",
    "import re\n",
    "import random\n",
    "from bs4 import BeautifulSoup\n",
    "from nltk.tokenize.toktok import ToktokTokenizer\n",
    "from itertools import chain\n",
    " \n",
    "import warnings\n",
    "warnings.simplefilter(action='ignore')"
   ]
  },
  {
   "cell_type": "markdown",
   "metadata": {},
   "source": [
    "Importazione del dataset:"
   ]
  },
  {
   "cell_type": "code",
   "execution_count": 3,
   "metadata": {},
   "outputs": [
    {
     "name": "stdout",
     "output_type": "stream",
     "text": [
      "(29245, 7)\n"
     ]
    },
    {
     "data": {
      "text/html": [
       "<div>\n",
       "<style scoped>\n",
       "    .dataframe tbody tr th:only-of-type {\n",
       "        vertical-align: middle;\n",
       "    }\n",
       "\n",
       "    .dataframe tbody tr th {\n",
       "        vertical-align: top;\n",
       "    }\n",
       "\n",
       "    .dataframe thead th {\n",
       "        text-align: right;\n",
       "    }\n",
       "</style>\n",
       "<table border=\"1\" class=\"dataframe\">\n",
       "  <thead>\n",
       "    <tr style=\"text-align: right;\">\n",
       "      <th></th>\n",
       "      <th>Unnamed: 0.1</th>\n",
       "      <th>Category</th>\n",
       "      <th>Description</th>\n",
       "      <th>Title</th>\n",
       "      <th>Unnamed: 0</th>\n",
       "      <th>Video Id</th>\n",
       "      <th>file</th>\n",
       "    </tr>\n",
       "  </thead>\n",
       "  <tbody>\n",
       "    <tr>\n",
       "      <th>0</th>\n",
       "      <td>0</td>\n",
       "      <td>travel</td>\n",
       "      <td>DISCLAIMER* Please do not ride elephants when ...</td>\n",
       "      <td>Welcome to Bali | Travel Vlog | Priscilla Lee</td>\n",
       "      <td>0</td>\n",
       "      <td>i9E_Blai8vk</td>\n",
       "      <td>Collected_data_raw1.csv</td>\n",
       "    </tr>\n",
       "    <tr>\n",
       "      <th>1</th>\n",
       "      <td>1</td>\n",
       "      <td>travel</td>\n",
       "      <td>Had the most amazing experience in Finland for...</td>\n",
       "      <td>FINLAND VACATION: TRAVEL VLOG</td>\n",
       "      <td>1</td>\n",
       "      <td>UBvJKs9eW3I</td>\n",
       "      <td>Collected_data_raw1.csv</td>\n",
       "    </tr>\n",
       "    <tr>\n",
       "      <th>2</th>\n",
       "      <td>2</td>\n",
       "      <td>travel</td>\n",
       "      <td>Hello loves Today's video is the Vlog of my tr...</td>\n",
       "      <td>MYKONOS GREECE TRAVEL VLOG 2020 |  Living our ...</td>\n",
       "      <td>2</td>\n",
       "      <td>jeIQ_Z35HZ4</td>\n",
       "      <td>Collected_data_raw1.csv</td>\n",
       "    </tr>\n",
       "    <tr>\n",
       "      <th>3</th>\n",
       "      <td>3</td>\n",
       "      <td>travel</td>\n",
       "      <td>Thank you so much for watching! I hope you fou...</td>\n",
       "      <td>TRAVEL VLOG: SANTORINI, GREECE</td>\n",
       "      <td>3</td>\n",
       "      <td>EthqIhPtd2I</td>\n",
       "      <td>Collected_data_raw1.csv</td>\n",
       "    </tr>\n",
       "    <tr>\n",
       "      <th>4</th>\n",
       "      <td>4</td>\n",
       "      <td>travel</td>\n",
       "      <td>Las Vegas Travel Vlog 2020 - Pandemic Version....</td>\n",
       "      <td>Las Vegas Travel Vlog 2020 | Pandemic Edition</td>\n",
       "      <td>4</td>\n",
       "      <td>X0F0Dh8ut3U</td>\n",
       "      <td>Collected_data_raw1.csv</td>\n",
       "    </tr>\n",
       "    <tr>\n",
       "      <th>5</th>\n",
       "      <td>5</td>\n",
       "      <td>travel</td>\n",
       "      <td>Follow along a travel day in my life!! LINKS: ...</td>\n",
       "      <td>TRAVEL DAY VLOG: Airport Essentials, What&amp;#39;...</td>\n",
       "      <td>5</td>\n",
       "      <td>USGN-aTzlG4</td>\n",
       "      <td>Collected_data_raw1.csv</td>\n",
       "    </tr>\n",
       "    <tr>\n",
       "      <th>6</th>\n",
       "      <td>6</td>\n",
       "      <td>travel</td>\n",
       "      <td>i still cant believe they had philz on the pla...</td>\n",
       "      <td>just a travel vlog. nothing special.</td>\n",
       "      <td>6</td>\n",
       "      <td>wfIWTD30gCw</td>\n",
       "      <td>Collected_data_raw1.csv</td>\n",
       "    </tr>\n",
       "    <tr>\n",
       "      <th>7</th>\n",
       "      <td>7</td>\n",
       "      <td>travel</td>\n",
       "      <td>This past March of 2020 we visited The Maldive...</td>\n",
       "      <td>LUXURY MALDIVES EXPERIENCE | TRAVEL VLOG</td>\n",
       "      <td>7</td>\n",
       "      <td>FaeQtn3-h4w</td>\n",
       "      <td>Collected_data_raw1.csv</td>\n",
       "    </tr>\n",
       "    <tr>\n",
       "      <th>8</th>\n",
       "      <td>8</td>\n",
       "      <td>travel</td>\n",
       "      <td>INSTA: https://instagram.com/annaheid?igshid=x...</td>\n",
       "      <td>travel vlog: airport at 4 am on CHRISTMAS!!</td>\n",
       "      <td>8</td>\n",
       "      <td>DD-Znv9vV5s</td>\n",
       "      <td>Collected_data_raw1.csv</td>\n",
       "    </tr>\n",
       "    <tr>\n",
       "      <th>9</th>\n",
       "      <td>9</td>\n",
       "      <td>travel</td>\n",
       "      <td>We are selecting one person who makes a purcha...</td>\n",
       "      <td>Traveling to the Happiest Country in the World!!</td>\n",
       "      <td>9</td>\n",
       "      <td>Qmi-Xwq-MEc</td>\n",
       "      <td>Collected_data_raw1.csv</td>\n",
       "    </tr>\n",
       "  </tbody>\n",
       "</table>\n",
       "</div>"
      ],
      "text/plain": [
       "   Unnamed: 0.1 Category                                        Description  \\\n",
       "0             0   travel  DISCLAIMER* Please do not ride elephants when ...   \n",
       "1             1   travel  Had the most amazing experience in Finland for...   \n",
       "2             2   travel  Hello loves Today's video is the Vlog of my tr...   \n",
       "3             3   travel  Thank you so much for watching! I hope you fou...   \n",
       "4             4   travel  Las Vegas Travel Vlog 2020 - Pandemic Version....   \n",
       "5             5   travel  Follow along a travel day in my life!! LINKS: ...   \n",
       "6             6   travel  i still cant believe they had philz on the pla...   \n",
       "7             7   travel  This past March of 2020 we visited The Maldive...   \n",
       "8             8   travel  INSTA: https://instagram.com/annaheid?igshid=x...   \n",
       "9             9   travel  We are selecting one person who makes a purcha...   \n",
       "\n",
       "                                               Title  Unnamed: 0     Video Id  \\\n",
       "0      Welcome to Bali | Travel Vlog | Priscilla Lee           0  i9E_Blai8vk   \n",
       "1                      FINLAND VACATION: TRAVEL VLOG           1  UBvJKs9eW3I   \n",
       "2  MYKONOS GREECE TRAVEL VLOG 2020 |  Living our ...           2  jeIQ_Z35HZ4   \n",
       "3                     TRAVEL VLOG: SANTORINI, GREECE           3  EthqIhPtd2I   \n",
       "4      Las Vegas Travel Vlog 2020 | Pandemic Edition           4  X0F0Dh8ut3U   \n",
       "5  TRAVEL DAY VLOG: Airport Essentials, What&#39;...           5  USGN-aTzlG4   \n",
       "6               just a travel vlog. nothing special.           6  wfIWTD30gCw   \n",
       "7           LUXURY MALDIVES EXPERIENCE | TRAVEL VLOG           7  FaeQtn3-h4w   \n",
       "8        travel vlog: airport at 4 am on CHRISTMAS!!           8  DD-Znv9vV5s   \n",
       "9   Traveling to the Happiest Country in the World!!           9  Qmi-Xwq-MEc   \n",
       "\n",
       "                      file  \n",
       "0  Collected_data_raw1.csv  \n",
       "1  Collected_data_raw1.csv  \n",
       "2  Collected_data_raw1.csv  \n",
       "3  Collected_data_raw1.csv  \n",
       "4  Collected_data_raw1.csv  \n",
       "5  Collected_data_raw1.csv  \n",
       "6  Collected_data_raw1.csv  \n",
       "7  Collected_data_raw1.csv  \n",
       "8  Collected_data_raw1.csv  \n",
       "9  Collected_data_raw1.csv  "
      ]
     },
     "execution_count": 3,
     "metadata": {},
     "output_type": "execute_result"
    }
   ],
   "source": [
    "yt = pd.read_csv('youtube-videos.csv')\n",
    "print(yt.shape)\n",
    "yt.head(10)"
   ]
  },
  {
   "attachments": {},
   "cell_type": "markdown",
   "metadata": {},
   "source": [
    "# 4 - Raccolta dei dati"
   ]
  },
  {
   "attachments": {},
   "cell_type": "markdown",
   "metadata": {},
   "source": [
    "Il dataset è stato scaricato dal sito [kaggle.com](https://www.kaggle.com/) ed è consultabile e scaricabile **[QUI](https://www.kaggle.com/datasets/aashishbidap/youtube-api-data-for-text-categorization)**.\n",
    "\n",
    "Come da traccia del progetto, è stato scelto appositamente un dataset che non abbia alcun notebook o discussione scritto su di esso."
   ]
  },
  {
   "attachments": {},
   "cell_type": "markdown",
   "metadata": {},
   "source": [
    "# 5 - Pulizia del dataset"
   ]
  },
  {
   "attachments": {},
   "cell_type": "markdown",
   "metadata": {},
   "source": [
    "Rimuovo le colonne superflue alla classificazione per questioni di efficienza:"
   ]
  },
  {
   "cell_type": "code",
   "execution_count": 4,
   "metadata": {},
   "outputs": [
    {
     "name": "stdout",
     "output_type": "stream",
     "text": [
      "(29245, 4)\n"
     ]
    },
    {
     "data": {
      "text/html": [
       "<div>\n",
       "<style scoped>\n",
       "    .dataframe tbody tr th:only-of-type {\n",
       "        vertical-align: middle;\n",
       "    }\n",
       "\n",
       "    .dataframe tbody tr th {\n",
       "        vertical-align: top;\n",
       "    }\n",
       "\n",
       "    .dataframe thead th {\n",
       "        text-align: right;\n",
       "    }\n",
       "</style>\n",
       "<table border=\"1\" class=\"dataframe\">\n",
       "  <thead>\n",
       "    <tr style=\"text-align: right;\">\n",
       "      <th></th>\n",
       "      <th>Category</th>\n",
       "      <th>Description</th>\n",
       "      <th>Title</th>\n",
       "      <th>Video Id</th>\n",
       "    </tr>\n",
       "  </thead>\n",
       "  <tbody>\n",
       "    <tr>\n",
       "      <th>0</th>\n",
       "      <td>travel</td>\n",
       "      <td>DISCLAIMER* Please do not ride elephants when ...</td>\n",
       "      <td>Welcome to Bali | Travel Vlog | Priscilla Lee</td>\n",
       "      <td>i9E_Blai8vk</td>\n",
       "    </tr>\n",
       "    <tr>\n",
       "      <th>1</th>\n",
       "      <td>travel</td>\n",
       "      <td>Had the most amazing experience in Finland for...</td>\n",
       "      <td>FINLAND VACATION: TRAVEL VLOG</td>\n",
       "      <td>UBvJKs9eW3I</td>\n",
       "    </tr>\n",
       "    <tr>\n",
       "      <th>2</th>\n",
       "      <td>travel</td>\n",
       "      <td>Hello loves Today's video is the Vlog of my tr...</td>\n",
       "      <td>MYKONOS GREECE TRAVEL VLOG 2020 |  Living our ...</td>\n",
       "      <td>jeIQ_Z35HZ4</td>\n",
       "    </tr>\n",
       "    <tr>\n",
       "      <th>3</th>\n",
       "      <td>travel</td>\n",
       "      <td>Thank you so much for watching! I hope you fou...</td>\n",
       "      <td>TRAVEL VLOG: SANTORINI, GREECE</td>\n",
       "      <td>EthqIhPtd2I</td>\n",
       "    </tr>\n",
       "    <tr>\n",
       "      <th>4</th>\n",
       "      <td>travel</td>\n",
       "      <td>Las Vegas Travel Vlog 2020 - Pandemic Version....</td>\n",
       "      <td>Las Vegas Travel Vlog 2020 | Pandemic Edition</td>\n",
       "      <td>X0F0Dh8ut3U</td>\n",
       "    </tr>\n",
       "    <tr>\n",
       "      <th>5</th>\n",
       "      <td>travel</td>\n",
       "      <td>Follow along a travel day in my life!! LINKS: ...</td>\n",
       "      <td>TRAVEL DAY VLOG: Airport Essentials, What&amp;#39;...</td>\n",
       "      <td>USGN-aTzlG4</td>\n",
       "    </tr>\n",
       "    <tr>\n",
       "      <th>6</th>\n",
       "      <td>travel</td>\n",
       "      <td>i still cant believe they had philz on the pla...</td>\n",
       "      <td>just a travel vlog. nothing special.</td>\n",
       "      <td>wfIWTD30gCw</td>\n",
       "    </tr>\n",
       "    <tr>\n",
       "      <th>7</th>\n",
       "      <td>travel</td>\n",
       "      <td>This past March of 2020 we visited The Maldive...</td>\n",
       "      <td>LUXURY MALDIVES EXPERIENCE | TRAVEL VLOG</td>\n",
       "      <td>FaeQtn3-h4w</td>\n",
       "    </tr>\n",
       "    <tr>\n",
       "      <th>8</th>\n",
       "      <td>travel</td>\n",
       "      <td>INSTA: https://instagram.com/annaheid?igshid=x...</td>\n",
       "      <td>travel vlog: airport at 4 am on CHRISTMAS!!</td>\n",
       "      <td>DD-Znv9vV5s</td>\n",
       "    </tr>\n",
       "    <tr>\n",
       "      <th>9</th>\n",
       "      <td>travel</td>\n",
       "      <td>We are selecting one person who makes a purcha...</td>\n",
       "      <td>Traveling to the Happiest Country in the World!!</td>\n",
       "      <td>Qmi-Xwq-MEc</td>\n",
       "    </tr>\n",
       "  </tbody>\n",
       "</table>\n",
       "</div>"
      ],
      "text/plain": [
       "  Category                                        Description  \\\n",
       "0   travel  DISCLAIMER* Please do not ride elephants when ...   \n",
       "1   travel  Had the most amazing experience in Finland for...   \n",
       "2   travel  Hello loves Today's video is the Vlog of my tr...   \n",
       "3   travel  Thank you so much for watching! I hope you fou...   \n",
       "4   travel  Las Vegas Travel Vlog 2020 - Pandemic Version....   \n",
       "5   travel  Follow along a travel day in my life!! LINKS: ...   \n",
       "6   travel  i still cant believe they had philz on the pla...   \n",
       "7   travel  This past March of 2020 we visited The Maldive...   \n",
       "8   travel  INSTA: https://instagram.com/annaheid?igshid=x...   \n",
       "9   travel  We are selecting one person who makes a purcha...   \n",
       "\n",
       "                                               Title     Video Id  \n",
       "0      Welcome to Bali | Travel Vlog | Priscilla Lee  i9E_Blai8vk  \n",
       "1                      FINLAND VACATION: TRAVEL VLOG  UBvJKs9eW3I  \n",
       "2  MYKONOS GREECE TRAVEL VLOG 2020 |  Living our ...  jeIQ_Z35HZ4  \n",
       "3                     TRAVEL VLOG: SANTORINI, GREECE  EthqIhPtd2I  \n",
       "4      Las Vegas Travel Vlog 2020 | Pandemic Edition  X0F0Dh8ut3U  \n",
       "5  TRAVEL DAY VLOG: Airport Essentials, What&#39;...  USGN-aTzlG4  \n",
       "6               just a travel vlog. nothing special.  wfIWTD30gCw  \n",
       "7           LUXURY MALDIVES EXPERIENCE | TRAVEL VLOG  FaeQtn3-h4w  \n",
       "8        travel vlog: airport at 4 am on CHRISTMAS!!  DD-Znv9vV5s  \n",
       "9   Traveling to the Happiest Country in the World!!  Qmi-Xwq-MEc  "
      ]
     },
     "execution_count": 4,
     "metadata": {},
     "output_type": "execute_result"
    }
   ],
   "source": [
    "del yt['file']\n",
    "del yt['Unnamed: 0']\n",
    "del yt['Unnamed: 0.1']\n",
    "\n",
    "print(yt.shape)\n",
    "yt.head(10)"
   ]
  },
  {
   "cell_type": "markdown",
   "metadata": {},
   "source": [
    "Controllo se il dataset è completo:"
   ]
  },
  {
   "cell_type": "code",
   "execution_count": 5,
   "metadata": {},
   "outputs": [
    {
     "data": {
      "image/png": "[encoded data removed]",
      "text/plain": [
       "<Figure size 1800x720 with 2 Axes>"
      ]
     },
     "metadata": {
      "needs_background": "light"
     },
     "output_type": "display_data"
    }
   ],
   "source": [
    "msno.matrix(yt);"
   ]
  },
  {
   "cell_type": "markdown",
   "metadata": {},
   "source": [
    "È possibile notare che vi sono video che non presentano la descrizione. Poiché il campo della descrizione è necessario, si può procedere con la rimozione di tali records:"
   ]
  },
  {
   "cell_type": "code",
   "execution_count": 6,
   "metadata": {},
   "outputs": [],
   "source": [
    "yt.dropna(axis=0, how='any',inplace=True)"
   ]
  },
  {
   "cell_type": "code",
   "execution_count": 7,
   "metadata": {},
   "outputs": [
    {
     "data": {
      "image/png": "[encoded data removed]",
      "text/plain": [
       "<Figure size 1800x720 with 2 Axes>"
      ]
     },
     "metadata": {
      "needs_background": "light"
     },
     "output_type": "display_data"
    }
   ],
   "source": [
    "msno.matrix(yt);"
   ]
  },
  {
   "attachments": {},
   "cell_type": "markdown",
   "metadata": {},
   "source": [
    "# 6 - Pulizia del testo"
   ]
  },
  {
   "cell_type": "markdown",
   "metadata": {},
   "source": [
    "Unisco le colonne Title e Description in una nuova colonna chiamata Tokens:"
   ]
  },
  {
   "cell_type": "code",
   "execution_count": 8,
   "metadata": {},
   "outputs": [],
   "source": [
    "yt['Tokens'] = yt['Title'] + ' ' + yt['Description']\n",
    "\n",
    "del yt['Title']\n",
    "del yt['Description']"
   ]
  },
  {
   "cell_type": "markdown",
   "metadata": {},
   "source": [
    "Rimozione codice html, urls, caratteri speciali e stopwords:"
   ]
  },
  {
   "cell_type": "code",
   "execution_count": 9,
   "metadata": {},
   "outputs": [],
   "source": [
    "def remove_html(text):\n",
    "    bs = BeautifulSoup(text, \"html.parser\")\n",
    "    return bs.get_text()\n",
    "\n",
    "def remove_urls(text):\n",
    "    return re.sub('http[s]?://(?:[a-zA-Z]|[0-9]|[$-_@.&+]|[!*\\(\\),]|(?:%[0-9a-fA-F][0-9a-fA-F]))+', '', text)\n",
    "\n",
    "def remove_special_characters(text, remove_digits=True):\n",
    "    pattern=r'[^a-zA-z0-9\\s]'\n",
    "    text=re.sub(pattern,'',text)\n",
    "    return text\n",
    "\n",
    "def remove_stopwords(text, is_lower_case=False):\n",
    "    stopword_list = nltk.corpus.stopwords.words('english')\n",
    "    tokenizer = ToktokTokenizer()\n",
    "\n",
    "    tokens = tokenizer.tokenize(text)\n",
    "    tokens = [token.strip() for token in tokens]\n",
    "    if is_lower_case:\n",
    "        filtered_tokens = [token for token in tokens if token not in stopword_list]\n",
    "    else:\n",
    "        filtered_tokens = [token for token in tokens if token.lower() not in stopword_list]\n",
    "    filtered_text = ' '.join(filtered_tokens)    \n",
    "    return filtered_text\n",
    "\n",
    "yt['Tokens'] = yt['Tokens'].apply(remove_html)\n",
    "yt['Tokens'] = yt['Tokens'].apply(remove_urls)\n",
    "yt['Tokens'] = yt['Tokens'].apply(remove_special_characters)\n",
    "yt['Tokens'] = yt['Tokens'].apply(remove_stopwords)"
   ]
  },
  {
   "cell_type": "markdown",
   "metadata": {},
   "source": [
    "Stemming del testo:"
   ]
  },
  {
   "cell_type": "code",
   "execution_count": null,
   "metadata": {},
   "outputs": [],
   "source": [
    "def stemmer(text):\n",
    "    ps=nltk.porter.PorterStemmer()\n",
    "    text= ' '.join([ps.stem(word) for word in text.split()])\n",
    "    return text\n",
    "\n",
    "yt['Tokens'] = yt['Tokens'].apply(stemmer)"
   ]
  },
  {
   "attachments": {},
   "cell_type": "markdown",
   "metadata": {},
   "source": [
    "# 7 - Tokenizzazione"
   ]
  },
  {
   "cell_type": "code",
   "execution_count": null,
   "metadata": {},
   "outputs": [],
   "source": [
    "yt['Tokens'] = yt['Tokens'].apply(nltk.word_tokenize)"
   ]
  },
  {
   "cell_type": "markdown",
   "metadata": {},
   "source": [
    "Il dataset è pronto alla fase di analisi esplorativa."
   ]
  },
  {
   "attachments": {},
   "cell_type": "markdown",
   "metadata": {},
   "source": [
    "# 8 - Analisi esplorativa"
   ]
  },
  {
   "cell_type": "markdown",
   "metadata": {},
   "source": [
    "Struttura:"
   ]
  },
  {
   "cell_type": "code",
   "execution_count": null,
   "metadata": {},
   "outputs": [],
   "source": [
    "print('Numero di records:', yt.shape[0])"
   ]
  },
  {
   "cell_type": "code",
   "execution_count": null,
   "metadata": {},
   "outputs": [],
   "source": [
    "yt.head()"
   ]
  },
  {
   "cell_type": "markdown",
   "metadata": {},
   "source": [
    "Controllo categorie:"
   ]
  },
  {
   "cell_type": "code",
   "execution_count": null,
   "metadata": {},
   "outputs": [],
   "source": [
    "categories = yt['Category'].unique()\n",
    "\n",
    "print('Numero di categorie:', categories.size, '\\n')\n",
    "\n",
    "for i in categories:\n",
    "    print('-', i)"
   ]
  },
  {
   "cell_type": "markdown",
   "metadata": {},
   "source": [
    "Confronto tra i video per categoria:"
   ]
  },
  {
   "cell_type": "code",
   "execution_count": null,
   "metadata": {},
   "outputs": [],
   "source": [
    "c = yt['Category'].value_counts()\n",
    "\n",
    "plt.figure(figsize=(15,5))\n",
    "plt.bar(c.index, c.values, color = 'darkgrey')\n",
    "plt.xlabel('Categoria')\n",
    "plt.ylabel('Numero di video')\n",
    "plt.xticks(rotation=15)\n",
    "plt.show();"
   ]
  },
  {
   "cell_type": "markdown",
   "metadata": {},
   "source": [
    "Numero di token totali:"
   ]
  },
  {
   "cell_type": "code",
   "execution_count": null,
   "metadata": {},
   "outputs": [],
   "source": [
    "print(sum([len(i) for i in yt['Tokens']]))"
   ]
  },
  {
   "attachments": {},
   "cell_type": "markdown",
   "metadata": {},
   "source": [
    "# 9 - Train set e Test set"
   ]
  },
  {
   "cell_type": "markdown",
   "metadata": {},
   "source": [
    "Procedo con il creare un sistema che permetta di dividere il dataset tra train set e test set usando una percentuale inserita dall'utente:"
   ]
  },
  {
   "cell_type": "code",
   "execution_count": null,
   "metadata": {},
   "outputs": [],
   "source": [
    "# - - - - - - - - - - - - - - #\n",
    "train_set_percentage = 70\n",
    "# - - - - - - - - - - - - - - #\n",
    "\n",
    "test_set_percentage = 100-train_set_percentage\n",
    "\n",
    "total_size = yt.shape[0]\n",
    "\n",
    "train_set_size = total_size//100*train_set_percentage"
   ]
  },
  {
   "cell_type": "markdown",
   "metadata": {},
   "source": [
    "In questo modo, cambiando il valore della variabile **train_set_percentage** è possibile cambiare la percentuale di dataset che verrà dedicata al train set, e la restante verrà utilizzata come test set."
   ]
  },
  {
   "cell_type": "markdown",
   "metadata": {},
   "source": [
    "A questo punto è possibile creare il **feature_set** che conterrà le informazioni relative alle parole contenute in ciascun titolo/descrizione dei video.\n",
    "\n",
    "Il **feature_set** verrà poi diviso in **train_set** e **test_set** a seconda del rapporto percentuale inserito dall'utente:"
   ]
  },
  {
   "cell_type": "code",
   "execution_count": null,
   "metadata": {},
   "outputs": [],
   "source": [
    "docs = [(yt['Tokens'].to_list()[i], yt['Category'].to_list()[i]) for i in range(len(yt))]\n",
    "\n",
    "random.shuffle(docs)\n",
    "\n",
    "allWords = [word.lower() for doc in docs for word in doc[0]]\n",
    "\n",
    "vocabulary = [w[0] for w in nltk.FreqDist(allWords).most_common(3000)]\n",
    "\n",
    "def docFeatures(document):\n",
    "    docWords = set(document)\n",
    "    features = {}\n",
    "    for word in vocabulary:\n",
    "        features['contains({})'.format(word)] = (word in docWords)\n",
    "    return features\n",
    "\n",
    "feature_sets = [(docFeatures(d), c) for (d,c) in docs]\n",
    "\n",
    "train_set = feature_sets[:train_set_size]\n",
    "test_set = feature_sets[train_set_size:]"
   ]
  },
  {
   "cell_type": "markdown",
   "metadata": {},
   "source": [
    "Controllo le dimensioni di **train_set** e **test_set**:"
   ]
  },
  {
   "cell_type": "code",
   "execution_count": null,
   "metadata": {},
   "outputs": [],
   "source": [
    "print('Dimensione totale del dataset:', total_size, f'({train_set_percentage+test_set_percentage}%)')\n",
    "print('Dimensione train set:', len(train_set), f'({train_set_percentage}%)')\n",
    "print('Dimensione test set:', len(test_set), f'({test_set_percentage}%)')"
   ]
  },
  {
   "attachments": {},
   "cell_type": "markdown",
   "metadata": {},
   "source": [
    "# 10 - Training"
   ]
  },
  {
   "attachments": {},
   "cell_type": "markdown",
   "metadata": {},
   "source": [
    "In questa fase di testing verrà utilizzato il metodo *Naive Bayes*, implementato dalla libreria nltk:"
   ]
  },
  {
   "cell_type": "code",
   "execution_count": null,
   "metadata": {},
   "outputs": [],
   "source": [
    "# classifier = nltk.NaiveBayesClassifier.train(train_set)"
   ]
  },
  {
   "attachments": {},
   "cell_type": "markdown",
   "metadata": {},
   "source": [
    "# 11 - Test"
   ]
  },
  {
   "cell_type": "code",
   "execution_count": null,
   "metadata": {},
   "outputs": [],
   "source": [
    "# print(str('{0:.3g}'.format(nltk.classify.accuracy(classifier, test_set)*100)) + '%')"
   ]
  },
  {
   "attachments": {},
   "cell_type": "markdown",
   "metadata": {},
   "source": [
    "Il valore ottenuto rappresenta la percentuale di accuratezza calcolata testando il modello istruito sul **train_set** ed eseguito sul **test_set**.\n",
    "\n",
    "Visualizzo ora le 10 informazioni più utili che il modello ha imparato autonomamente dai dati:"
   ]
  },
  {
   "cell_type": "code",
   "execution_count": null,
   "metadata": {},
   "outputs": [],
   "source": [
    "# classifier.show_most_informative_features(10)"
   ]
  },
  {
   "cell_type": "code",
   "execution_count": null,
   "metadata": {},
   "outputs": [],
   "source": [
    "d = {'3d':1151, 'archaeolog':1148, 'food':941, 'delici':668, 'print':640,  'ancient':560, 'sport':485, 'deadliest':478, 'robot':399, 'archaeologist':362}\n",
    "plt.figure(figsize=(15,5))\n",
    "plt.bar(d.keys(), d.values(), color = 'darkgrey')\n",
    "plt.xlabel('Categoria')\n",
    "plt.ylabel('Numero di video')\n",
    "plt.xticks(rotation=15)\n",
    "plt.show();"
   ]
  },
  {
   "attachments": {},
   "cell_type": "markdown",
   "metadata": {},
   "source": [
    "# 12 - Analisi dei risultati"
   ]
  },
  {
   "attachments": {},
   "cell_type": "markdown",
   "metadata": {},
   "source": [
    "Effettuando una singola run di training, si ottiene un'accuratezza che varia tra l'88% e l'89%.\n",
    "\n",
    "Effettuando più run consecutive (effettuando lo shuffle dei documenti di volta in volta), si ottiene sempre un'accuratezza varia tra l'88% e l'89%.\n",
    "\n",
    "Per mantenere ragionevoli i tempi di esecuzione di questo notebook, nel codice è presente solo una singola run di training a scopo dimostrativo, poiché ogni singola run impiega ~6 minuti per le fasi di preparazione dati, training e testing.\n",
    "\n",
    "Confrontando l'accuratezza di una singola run di training rispetto a più run casuali combinate, le percentuali restano uguali.\n",
    "\n",
    "Di seguito una tabella contenente le percentuali di accuratezza a seconda delle diverse combinazioni di training_set/test_set testate:"
   ]
  },
  {
   "attachments": {},
   "cell_type": "markdown",
   "metadata": {},
   "source": [
    "|train set size (%)|test set size (%)|accuracy|\n",
    "|:-|:-|:-|\n",
    "|14250 (50%)|14259 (50%)|88.4%|\n",
    "|17100 (60%)|11409 (40%)|88.5%|\n",
    "|19950 (70%)|8559 (30%)|88.5%|\n",
    "|22800 (80%)|5709 (20%)|88.7%|\n",
    "|25650 (90%)|2859 (10%)|88.9%|"
   ]
  },
  {
   "attachments": {},
   "cell_type": "markdown",
   "metadata": {},
   "source": [
    "Le percentuali risultano stabili sia al variare della combinazione di training_set/test_set che all'aumentare delle run casuali.\n",
    "\n",
    "È possibile dare una spiegazione precisa a questo fenomeno:\n",
    "- il dataset è abbastanza grande da raccogliere sufficienti token per l'addestramento, e run multiple su diverse porzioni del dataset non aggiungono informazioni utili all'addestramento\n",
    "- poiché sono state effettuate operazioni di pulizia e correzione del dataset (tra cui lo stemming dei token), i diversi records avranno spesso molteplici token in comune"
   ]
  },
  {
   "attachments": {},
   "cell_type": "markdown",
   "metadata": {},
   "source": [
    "I risultati ottenuti soddisfano pienamente l'obiettivo previsto.\n",
    "\n",
    "Nonostante il fatto che spesso i titoli e le descrizioni dei video su Youtube contengono poche informazioni riguardanti il genere dei video (dato che Youtube stessa permette la condivisione di contenuti senza un processo di valutazione qualitativo), il modello riesce comunque a classificare correttamente buona parte dei video processati.\n",
    "\n"
   ]
  },
  {
   "cell_type": "markdown",
   "metadata": {},
   "source": [
    "# TODO: provare nuovi metodi"
   ]
  },
  {
   "cell_type": "code",
   "execution_count": null,
   "metadata": {},
   "outputs": [],
   "source": [
    "from sklearn.datasets import fetch_20newsgroups\n",
    "from sklearn.feature_extraction.text import CountVectorizer\n",
    "from sklearn.feature_extraction.text import TfidfTransformer\n",
    "from sklearn.naive_bayes import MultinomialNB\n",
    "from sklearn.linear_model import SGDClassifier\n",
    "from sklearn.pipeline import Pipeline\n",
    "from sklearn import metrics\n",
    "from sklearn.model_selection import GridSearchCV\n",
    "from sklearn.model_selection import cross_val_score\n",
    "from sklearn.model_selection import ShuffleSplit"
   ]
  },
  {
   "cell_type": "code",
   "execution_count": null,
   "metadata": {},
   "outputs": [],
   "source": [
    "allTarget = [None for i in range(28509)]\n",
    "\n",
    "j = 0\n",
    "for i in yt['Category'].to_list():\n",
    "    if i == 'travel':\n",
    "        allTarget[j] = 0\n",
    "    if i == 'science and technology':\n",
    "        allTarget[j] = 1\n",
    "    if i == 'food':\n",
    "        allTarget[j] = 2\n",
    "    if i == 'manufacturing':\n",
    "        allTarget[j] = 3\n",
    "    if i == 'history':\n",
    "        allTarget[j] = 4\n",
    "    if i == 'art and music':\n",
    "        allTarget[j] = 5\n",
    "    if i == 'nature':\n",
    "        allTarget[j] = 6\n",
    "    if i == 'sports':\n",
    "        allTarget[j] = 7\n",
    "    if i == 'adventure':\n",
    "        allTarget[j] = 8\n",
    "    j+=1\n",
    "\n",
    "categories = list(set(yt['Category']))\n",
    "\n",
    "train_s = allWords[:400000]\n",
    "test_s = allWords[400000:]\n",
    "\n",
    "train_t = allTarget[:400000]\n",
    "test_t = allTarget[400000:]\n",
    "\n",
    "print('Dimensione train set:', len(train_s))\n",
    "print('Dimensione test set:', len(test_s))\n",
    "\n",
    "print(len(allTarget))"
   ]
  },
  {
   "cell_type": "code",
   "execution_count": null,
   "metadata": {},
   "outputs": [],
   "source": [
    "# Building a pipeline and training classifier\n",
    "text_clf = Pipeline([('vect', CountVectorizer()), ('tfidf', TfidfTransformer()), ('clf', MultinomialNB()),])\n",
    "#text_clf = Pipeline([('vect', CountVectorizer()), ('tfidf', TfidfTransformer()), ('clf', SGDClassifier(loss='hinge', penalty='l2', alpha=1e-3, random_state=42, max_iter=5, tol=None)),])\n",
    "text_clf.fit(train_s, allTarget)\n",
    "\n",
    "# Evaluating the performance on the test set\n",
    "predicted = text_clf.predict(test_s)\n",
    "print(metrics.classification_report(test_t, predicted, target_names=categories))\n",
    "\n",
    "# Cross-validation\n",
    "#cv = ShuffleSplit(n_splits=10, test_size=0.2, random_state=0)\n",
    "#scores = cross_val_score(text_clf, twenty_train.data, twenty_train.target, cv=cv)\n",
    "#print (scores)\n",
    "\n",
    "# Parameter tuning using grid search (and cross-validation)\n",
    "#parameters = {'vect__ngram_range': [(1, 1), (1, 2)], 'tfidf__use_idf': (True, False), 'clf__alpha': (1e-2, 1e-3),}\n",
    "#gs_clf = GridSearchCV(text_clf, parameters, cv=cv, n_jobs=-1)\n",
    "#gs_clf = gs_clf.fit(twenty_train.data[:400], twenty_train.target[:400])\n",
    "#predicted = gs_clf.predict(twenty_test.data)\n",
    "#print(metrics.classification_report(twenty_test.target, predicted, target_names=twenty_test.target_names))"
   ]
  },
  {
   "cell_type": "code",
   "execution_count": null,
   "metadata": {},
   "outputs": [],
   "source": [
    "categories = ['alt.atheism', 'soc.religion.christian', 'comp.graphics', 'sci.med']      \n",
    "twenty_train = fetch_20newsgroups(subset='train', categories=categories, shuffle=True, random_state=42)\n",
    "twenty_test = fetch_20newsgroups(subset='test', categories=categories, shuffle=True, random_state=42)\n",
    "\n",
    "# Building a pipeline and training classifier\n",
    "text_clf = Pipeline([('vect', CountVectorizer()), ('tfidf', TfidfTransformer()), ('clf', MultinomialNB()),])\n",
    "#text_clf = Pipeline([('vect', CountVectorizer()), ('tfidf', TfidfTransformer()), ('clf', SGDClassifier(loss='hinge', penalty='l2', alpha=1e-3, random_state=42, max_iter=5, tol=None)),])\n",
    "text_clf.fit(twenty_train.data, twenty_train.target)\n",
    "\n",
    "# Evaluating the performance on the test set\n",
    "predicted = text_clf.predict(twenty_test.data)\n",
    "print(metrics.classification_report(twenty_test.target, predicted, target_names=twenty_test.target_names))\n",
    "\n",
    "print('Dimensione categories:', len(categories))\n",
    "print('Dimensione train set:', len(twenty_train.data))\n",
    "print('Dimensione test set:', len(twenty_test.data))\n",
    "print('Dimensione train target:', len(twenty_train.target))\n",
    "print('Dimensione train target:', len(twenty_test.target))\n"
   ]
  },
  {
   "attachments": {},
   "cell_type": "markdown",
   "metadata": {},
   "source": [
    "---"
   ]
  },
  {
   "cell_type": "code",
   "execution_count": null,
   "metadata": {},
   "outputs": [],
   "source": []
  },
  {
   "cell_type": "code",
   "execution_count": null,
   "metadata": {},
   "outputs": [
    {
     "ename": "NameError",
     "evalue": "name 'yt' is not defined",
     "output_type": "error",
     "traceback": [
      "\u001b[0;31m---------------------------------------------------------------------------\u001b[0m",
      "\u001b[0;31mNameError\u001b[0m                                 Traceback (most recent call last)",
      "\u001b[0;32m/tmp/ipykernel_32665/4288398016.py\u001b[0m in \u001b[0;36m<module>\u001b[0;34m\u001b[0m\n\u001b[0;32m----> 1\u001b[0;31m \u001b[0mx\u001b[0m \u001b[0;34m=\u001b[0m \u001b[0;34m[\u001b[0m\u001b[0mi\u001b[0m \u001b[0;32mfor\u001b[0m \u001b[0mi\u001b[0m \u001b[0;32min\u001b[0m \u001b[0myt\u001b[0m\u001b[0;34m[\u001b[0m\u001b[0;34m'Tokens'\u001b[0m\u001b[0;34m]\u001b[0m\u001b[0;34m.\u001b[0m\u001b[0mto_list\u001b[0m\u001b[0;34m(\u001b[0m\u001b[0;34m)\u001b[0m\u001b[0;34m]\u001b[0m\u001b[0;34m\u001b[0m\u001b[0;34m\u001b[0m\u001b[0m\n\u001b[0m\u001b[1;32m      2\u001b[0m \u001b[0;34m\u001b[0m\u001b[0m\n\u001b[1;32m      3\u001b[0m \u001b[0;34m\u001b[0m\u001b[0m\n\u001b[1;32m      4\u001b[0m \u001b[0;34m\u001b[0m\u001b[0m\n\u001b[1;32m      5\u001b[0m \u001b[0mprint\u001b[0m\u001b[0;34m(\u001b[0m\u001b[0mx\u001b[0m\u001b[0;34m)\u001b[0m\u001b[0;34m\u001b[0m\u001b[0;34m\u001b[0m\u001b[0m\n",
      "\u001b[0;31mNameError\u001b[0m: name 'yt' is not defined"
     ]
    }
   ],
   "source": [
    "x = [i for i in yt['Tokens'].to_list()]\n",
    "\n",
    "\n",
    "\n",
    "print(x)\n",
    "\n",
    "y = [None for i in range(28509)]\n",
    "\n",
    "j = 0\n",
    "for i in yt['Category'].to_list():\n",
    "    if i == 'travel':\n",
    "        y[j] = 0\n",
    "    if i == 'science and technology':\n",
    "        y[j] = 1\n",
    "    if i == 'food':\n",
    "        y[j] = 2\n",
    "    if i == 'manufacturing':\n",
    "        y[j] = 3\n",
    "    if i == 'history':\n",
    "        y[j] = 4\n",
    "    if i == 'art and music':\n",
    "        y[j] = 5\n",
    "    if i == 'nature':\n",
    "        y[j] = 6\n",
    "    if i == 'sports':\n",
    "        y[j] = 7\n",
    "    if i == 'adventure':\n",
    "        y[j] = 8\n",
    "    j+=1\n",
    "\n",
    "\n",
    "print(len(x))\n",
    "print(len(y))\n",
    "\n",
    "#print(x[1000])\n",
    "#print(y[1000])\n"
   ]
  }
 ],
 "metadata": {
  "kernelspec": {
   "display_name": "Python 3.10.7 64-bit",
   "language": "python",
   "name": "python3"
  },
  "language_info": {
   "codemirror_mode": {
    "name": "ipython",
    "version": 3
   },
   "file_extension": ".py",
   "mimetype": "text/x-python",
   "name": "python",
   "nbconvert_exporter": "python",
   "pygments_lexer": "ipython3",
   "version": "3.10.7"
  },
  "orig_nbformat": 4,
  "vscode": {
   "interpreter": {
    "hash": "916dbcbb3f70747c44a77c7bcd40155683ae19c65e1c03b4aa3499c5328201f1"
   }
  }
 },
 "nbformat": 4,
 "nbformat_minor": 2
}
